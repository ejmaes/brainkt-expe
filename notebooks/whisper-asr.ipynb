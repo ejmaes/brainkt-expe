{
 "cells": [
  {
   "cell_type": "markdown",
   "metadata": {},
   "source": [
    "# Transcription using OpenAI Whisper\n",
    "Documentation on how to install Whisper is on the [OpenAI GitHub Page](https://github.com/openai/whisper) | [Colab example](https://colab.research.google.com/github/openai/whisper/blob/master/notebooks/LibriSpeech.ipynb#scrollTo=-YcRU5jqNqo2)"
   ]
  },
  {
   "cell_type": "markdown",
   "metadata": {},
   "source": [
    "## Installing Whisper"
   ]
  },
  {
   "cell_type": "code",
   "execution_count": null,
   "metadata": {},
   "outputs": [],
   "source": [
    "#!sudo apt install ffmpeg mediainfo sox libsox-fmt-mp3\n",
    "!brew install ffmpeg\n",
    "!brew install sox\n",
    "!brew install mediainfo\n",
    "!pip install audiofile\n",
    "!pip install setuptools-rust"
   ]
  },
  {
   "cell_type": "code",
   "execution_count": 12,
   "metadata": {},
   "outputs": [
    {
     "name": "stdout",
     "output_type": "stream",
     "text": [
      "Collecting git+https://github.com/openai/whisper.git\n",
      "  Cloning https://github.com/openai/whisper.git to /private/var/folders/kr/m6yb8cr154dcdkxnm75b4clw0000gn/T/pip-req-build-v8ztzydv\n",
      "  Running command git clone --filter=blob:none --quiet https://github.com/openai/whisper.git /private/var/folders/kr/m6yb8cr154dcdkxnm75b4clw0000gn/T/pip-req-build-v8ztzydv\n",
      "  Resolved https://github.com/openai/whisper.git to commit 9f70a352f9f8630ab3aa0d06af5cb9532bd8c21d\n",
      "  Preparing metadata (setup.py) ... \u001b[?25ldone\n",
      "\u001b[?25hRequirement already satisfied: numpy in /Users/eliot/.pyenv/versions/3.10.4/lib/python3.10/site-packages (from whisper==1.0) (1.22.3)\n",
      "Requirement already satisfied: torch in /Users/eliot/.pyenv/versions/3.10.4/lib/python3.10/site-packages (from whisper==1.0) (1.12.0)\n",
      "Requirement already satisfied: tqdm in /Users/eliot/.pyenv/versions/3.10.4/lib/python3.10/site-packages (from whisper==1.0) (4.64.0)\n",
      "Collecting more-itertools\n",
      "  Using cached more_itertools-9.0.0-py3-none-any.whl (52 kB)\n",
      "Collecting transformers>=4.19.0\n",
      "  Using cached transformers-4.24.0-py3-none-any.whl (5.5 MB)\n",
      "Collecting ffmpeg-python==0.2.0\n",
      "  Using cached ffmpeg_python-0.2.0-py3-none-any.whl (25 kB)\n",
      "Requirement already satisfied: future in /Users/eliot/.pyenv/versions/3.10.4/lib/python3.10/site-packages (from ffmpeg-python==0.2.0->whisper==1.0) (0.18.2)\n",
      "Requirement already satisfied: packaging>=20.0 in /Users/eliot/.pyenv/versions/3.10.4/lib/python3.10/site-packages (from transformers>=4.19.0->whisper==1.0) (21.3)\n",
      "Requirement already satisfied: requests in /Users/eliot/.pyenv/versions/3.10.4/lib/python3.10/site-packages (from transformers>=4.19.0->whisper==1.0) (2.28.1)\n",
      "Collecting tokenizers!=0.11.3,<0.14,>=0.11.1\n",
      "  Downloading tokenizers-0.13.2.tar.gz (359 kB)\n",
      "\u001b[2K     \u001b[90m━━━━━━━━━━━━━━━━━━━━━━━━━━━━━━━━━━━━━\u001b[0m \u001b[32m359.1/359.1 kB\u001b[0m \u001b[31m971.5 kB/s\u001b[0m eta \u001b[36m0:00:00\u001b[0ma \u001b[36m0:00:01\u001b[0m\n",
      "\u001b[?25h  Installing build dependencies ... \u001b[?25ldone\n",
      "\u001b[?25h  Getting requirements to build wheel ... \u001b[?25ldone\n",
      "\u001b[?25h  Preparing metadata (pyproject.toml) ... \u001b[?25ldone\n",
      "\u001b[?25hRequirement already satisfied: filelock in /Users/eliot/.pyenv/versions/3.10.4/lib/python3.10/site-packages (from transformers>=4.19.0->whisper==1.0) (3.8.0)\n",
      "Collecting regex!=2019.12.17\n",
      "  Downloading regex-2022.10.31-cp310-cp310-macosx_11_0_arm64.whl (287 kB)\n",
      "\u001b[2K     \u001b[90m━━━━━━━━━━━━━━━━━━━━━━━━━━━━━━━━━━━━━\u001b[0m \u001b[32m287.2/287.2 kB\u001b[0m \u001b[31m833.2 kB/s\u001b[0m eta \u001b[36m0:00:00\u001b[0m00:01\u001b[0m00:01\u001b[0m\n",
      "\u001b[?25hRequirement already satisfied: pyyaml>=5.1 in /Users/eliot/.pyenv/versions/3.10.4/lib/python3.10/site-packages (from transformers>=4.19.0->whisper==1.0) (6.0)\n",
      "Collecting huggingface-hub<1.0,>=0.10.0\n",
      "  Using cached huggingface_hub-0.10.1-py3-none-any.whl (163 kB)\n",
      "Requirement already satisfied: typing-extensions in /Users/eliot/.pyenv/versions/3.10.4/lib/python3.10/site-packages (from torch->whisper==1.0) (4.3.0)\n",
      "Requirement already satisfied: pyparsing!=3.0.5,>=2.0.2 in /Users/eliot/.pyenv/versions/3.10.4/lib/python3.10/site-packages (from packaging>=20.0->transformers>=4.19.0->whisper==1.0) (3.0.8)\n",
      "Requirement already satisfied: idna<4,>=2.5 in /Users/eliot/.pyenv/versions/3.10.4/lib/python3.10/site-packages (from requests->transformers>=4.19.0->whisper==1.0) (3.3)\n",
      "Requirement already satisfied: certifi>=2017.4.17 in /Users/eliot/.pyenv/versions/3.10.4/lib/python3.10/site-packages (from requests->transformers>=4.19.0->whisper==1.0) (2022.6.15)\n",
      "Requirement already satisfied: urllib3<1.27,>=1.21.1 in /Users/eliot/.pyenv/versions/3.10.4/lib/python3.10/site-packages (from requests->transformers>=4.19.0->whisper==1.0) (1.26.10)\n",
      "Requirement already satisfied: charset-normalizer<3,>=2 in /Users/eliot/.pyenv/versions/3.10.4/lib/python3.10/site-packages (from requests->transformers>=4.19.0->whisper==1.0) (2.1.0)\n",
      "Building wheels for collected packages: whisper, tokenizers\n",
      "  Building wheel for whisper (setup.py) ... \u001b[?25ldone\n",
      "\u001b[?25h  Created wheel for whisper: filename=whisper-1.0-py3-none-any.whl size=1175217 sha256=028d156e2a709533d9d7090640eac36807f838012ebcf30cf204e03a0c9d6310\n",
      "  Stored in directory: /private/var/folders/kr/m6yb8cr154dcdkxnm75b4clw0000gn/T/pip-ephem-wheel-cache-07dq2a5k/wheels/8b/6c/d0/622666868c179f156cf595c8b6f06f88bc5d80c4b31dccaa03\n",
      "  Building wheel for tokenizers (pyproject.toml) ... \u001b[?25lerror\n",
      "  \u001b[1;31merror\u001b[0m: \u001b[1msubprocess-exited-with-error\u001b[0m\n",
      "  \n",
      "  \u001b[31m×\u001b[0m \u001b[32mBuilding wheel for tokenizers \u001b[0m\u001b[1;32m(\u001b[0m\u001b[32mpyproject.toml\u001b[0m\u001b[1;32m)\u001b[0m did not run successfully.\n",
      "  \u001b[31m│\u001b[0m exit code: \u001b[1;36m1\u001b[0m\n",
      "  \u001b[31m╰─>\u001b[0m \u001b[31m[51 lines of output]\u001b[0m\n",
      "  \u001b[31m   \u001b[0m running bdist_wheel\n",
      "  \u001b[31m   \u001b[0m running build\n",
      "  \u001b[31m   \u001b[0m running build_py\n",
      "  \u001b[31m   \u001b[0m creating build\n",
      "  \u001b[31m   \u001b[0m creating build/lib.macosx-11.1-arm64-cpython-310\n",
      "  \u001b[31m   \u001b[0m creating build/lib.macosx-11.1-arm64-cpython-310/tokenizers\n",
      "  \u001b[31m   \u001b[0m copying py_src/tokenizers/__init__.py -> build/lib.macosx-11.1-arm64-cpython-310/tokenizers\n",
      "  \u001b[31m   \u001b[0m creating build/lib.macosx-11.1-arm64-cpython-310/tokenizers/models\n",
      "  \u001b[31m   \u001b[0m copying py_src/tokenizers/models/__init__.py -> build/lib.macosx-11.1-arm64-cpython-310/tokenizers/models\n",
      "  \u001b[31m   \u001b[0m creating build/lib.macosx-11.1-arm64-cpython-310/tokenizers/decoders\n",
      "  \u001b[31m   \u001b[0m copying py_src/tokenizers/decoders/__init__.py -> build/lib.macosx-11.1-arm64-cpython-310/tokenizers/decoders\n",
      "  \u001b[31m   \u001b[0m creating build/lib.macosx-11.1-arm64-cpython-310/tokenizers/normalizers\n",
      "  \u001b[31m   \u001b[0m copying py_src/tokenizers/normalizers/__init__.py -> build/lib.macosx-11.1-arm64-cpython-310/tokenizers/normalizers\n",
      "  \u001b[31m   \u001b[0m creating build/lib.macosx-11.1-arm64-cpython-310/tokenizers/pre_tokenizers\n",
      "  \u001b[31m   \u001b[0m copying py_src/tokenizers/pre_tokenizers/__init__.py -> build/lib.macosx-11.1-arm64-cpython-310/tokenizers/pre_tokenizers\n",
      "  \u001b[31m   \u001b[0m creating build/lib.macosx-11.1-arm64-cpython-310/tokenizers/processors\n",
      "  \u001b[31m   \u001b[0m copying py_src/tokenizers/processors/__init__.py -> build/lib.macosx-11.1-arm64-cpython-310/tokenizers/processors\n",
      "  \u001b[31m   \u001b[0m creating build/lib.macosx-11.1-arm64-cpython-310/tokenizers/trainers\n",
      "  \u001b[31m   \u001b[0m copying py_src/tokenizers/trainers/__init__.py -> build/lib.macosx-11.1-arm64-cpython-310/tokenizers/trainers\n",
      "  \u001b[31m   \u001b[0m creating build/lib.macosx-11.1-arm64-cpython-310/tokenizers/implementations\n",
      "  \u001b[31m   \u001b[0m copying py_src/tokenizers/implementations/byte_level_bpe.py -> build/lib.macosx-11.1-arm64-cpython-310/tokenizers/implementations\n",
      "  \u001b[31m   \u001b[0m copying py_src/tokenizers/implementations/sentencepiece_unigram.py -> build/lib.macosx-11.1-arm64-cpython-310/tokenizers/implementations\n",
      "  \u001b[31m   \u001b[0m copying py_src/tokenizers/implementations/sentencepiece_bpe.py -> build/lib.macosx-11.1-arm64-cpython-310/tokenizers/implementations\n",
      "  \u001b[31m   \u001b[0m copying py_src/tokenizers/implementations/base_tokenizer.py -> build/lib.macosx-11.1-arm64-cpython-310/tokenizers/implementations\n",
      "  \u001b[31m   \u001b[0m copying py_src/tokenizers/implementations/__init__.py -> build/lib.macosx-11.1-arm64-cpython-310/tokenizers/implementations\n",
      "  \u001b[31m   \u001b[0m copying py_src/tokenizers/implementations/char_level_bpe.py -> build/lib.macosx-11.1-arm64-cpython-310/tokenizers/implementations\n",
      "  \u001b[31m   \u001b[0m copying py_src/tokenizers/implementations/bert_wordpiece.py -> build/lib.macosx-11.1-arm64-cpython-310/tokenizers/implementations\n",
      "  \u001b[31m   \u001b[0m creating build/lib.macosx-11.1-arm64-cpython-310/tokenizers/tools\n",
      "  \u001b[31m   \u001b[0m copying py_src/tokenizers/tools/__init__.py -> build/lib.macosx-11.1-arm64-cpython-310/tokenizers/tools\n",
      "  \u001b[31m   \u001b[0m copying py_src/tokenizers/tools/visualizer.py -> build/lib.macosx-11.1-arm64-cpython-310/tokenizers/tools\n",
      "  \u001b[31m   \u001b[0m copying py_src/tokenizers/__init__.pyi -> build/lib.macosx-11.1-arm64-cpython-310/tokenizers\n",
      "  \u001b[31m   \u001b[0m copying py_src/tokenizers/models/__init__.pyi -> build/lib.macosx-11.1-arm64-cpython-310/tokenizers/models\n",
      "  \u001b[31m   \u001b[0m copying py_src/tokenizers/decoders/__init__.pyi -> build/lib.macosx-11.1-arm64-cpython-310/tokenizers/decoders\n",
      "  \u001b[31m   \u001b[0m copying py_src/tokenizers/normalizers/__init__.pyi -> build/lib.macosx-11.1-arm64-cpython-310/tokenizers/normalizers\n",
      "  \u001b[31m   \u001b[0m copying py_src/tokenizers/pre_tokenizers/__init__.pyi -> build/lib.macosx-11.1-arm64-cpython-310/tokenizers/pre_tokenizers\n",
      "  \u001b[31m   \u001b[0m copying py_src/tokenizers/processors/__init__.pyi -> build/lib.macosx-11.1-arm64-cpython-310/tokenizers/processors\n",
      "  \u001b[31m   \u001b[0m copying py_src/tokenizers/trainers/__init__.pyi -> build/lib.macosx-11.1-arm64-cpython-310/tokenizers/trainers\n",
      "  \u001b[31m   \u001b[0m copying py_src/tokenizers/tools/visualizer-styles.css -> build/lib.macosx-11.1-arm64-cpython-310/tokenizers/tools\n",
      "  \u001b[31m   \u001b[0m running build_ext\n",
      "  \u001b[31m   \u001b[0m running build_rust\n",
      "  \u001b[31m   \u001b[0m error: can't find Rust compiler\n",
      "  \u001b[31m   \u001b[0m \n",
      "  \u001b[31m   \u001b[0m If you are using an outdated pip version, it is possible a prebuilt wheel is available for this package but pip is not able to install from it. Installing from the wheel would avoid the need for a Rust compiler.\n",
      "  \u001b[31m   \u001b[0m \n",
      "  \u001b[31m   \u001b[0m To update pip, run:\n",
      "  \u001b[31m   \u001b[0m \n",
      "  \u001b[31m   \u001b[0m     pip install --upgrade pip\n",
      "  \u001b[31m   \u001b[0m \n",
      "  \u001b[31m   \u001b[0m and then retry package installation.\n",
      "  \u001b[31m   \u001b[0m \n",
      "  \u001b[31m   \u001b[0m If you did intend to build this package from source, try installing a Rust compiler from your system package manager and ensure it is on the PATH during installation. Alternatively, rustup (available at https://rustup.rs) is the recommended way to download and update the Rust compiler toolchain.\n",
      "  \u001b[31m   \u001b[0m \u001b[31m[end of output]\u001b[0m\n",
      "  \n",
      "  \u001b[1;35mnote\u001b[0m: This error originates from a subprocess, and is likely not a problem with pip.\n",
      "\u001b[?25h\u001b[31m  ERROR: Failed building wheel for tokenizers\u001b[0m\u001b[31m\n",
      "\u001b[0mSuccessfully built whisper\n",
      "Failed to build tokenizers\n",
      "\u001b[31mERROR: Could not build wheels for tokenizers, which is required to install pyproject.toml-based projects\u001b[0m\u001b[31m\n",
      "\u001b[0m\n",
      "\u001b[1m[\u001b[0m\u001b[34;49mnotice\u001b[0m\u001b[1;39;49m]\u001b[0m\u001b[39;49m A new release of pip available: \u001b[0m\u001b[31;49m22.2.2\u001b[0m\u001b[39;49m -> \u001b[0m\u001b[32;49m22.3.1\u001b[0m\n",
      "\u001b[1m[\u001b[0m\u001b[34;49mnotice\u001b[0m\u001b[1;39;49m]\u001b[0m\u001b[39;49m To update, run: \u001b[0m\u001b[32;49mpip install --upgrade pip\u001b[0m\n"
     ]
    }
   ],
   "source": [
    "!pip install git+https://github.com/openai/whisper.git "
   ]
  },
  {
   "cell_type": "markdown",
   "metadata": {},
   "source": [
    "`ffmpeg` can be used to [extract audio from the video](https://stackoverflow.com/questions/9913032/how-can-i-extract-audio-from-video-with-ffmpeg): \n",
    "```\n",
    "ffmpeg -i ~/Downloads/tmp/bkt-pilot-221103.mov -ss 00:00:00 -t 00:00:45.0 -q:a 0 -map a ~/Downloads/tmp/1minaudio.mp3\n",
    "```\n",
    "\n",
    "In our case, `whisper` can be called from the command line, with the output:\n",
    "```bash\n",
    "(base) eliot@Eliots-MBP aclpubcheck % whisper ~/Downloads/tmp/1minaudio.mp3 --language French\n",
    "100%|████████████████████████████████████████| 461M/461M [09:57<00:00, 809kiB/s]\n",
    "/Users/eliot/miniconda3/lib/python3.9/site-packages/whisper/transcribe.py:78: UserWarning: FP16 is not supported on CPU; using FP32 instead\n",
    "  warnings.warn(\"FP16 is not supported on CPU; using FP32 instead\")\n",
    "[00:00.000 --> 00:13.320]  Donc qu'est ce que tu as comme module comme petit carré? Il y a une horloge à côté de l'horloge\n",
    "[00:13.320 --> 00:24.840]  et il y a une espèce de balise avec un chronomètre et il y a un bouton annulé il y a quatre\n",
    "[00:24.840 --> 00:30.840]  boutons rouge bleu vert et jeune rouge bleu vert jeune on va aller là dessus je clique sur cela\n",
    "[00:30.840 --> 00:41.400]  alors ça s'appelle un saimon saimon 16 donc un des quatre boutons va s'allumer oui voilà quel\n",
    "[00:41.400 --> 01:11.400]  bouton s'allumer et jeune dans ce cas\n",
    "```\n",
    "\n",
    "Downsides:\n",
    "* Loose audio boundaries\n",
    "* No distinctions between channels\n",
    "\n",
    "Steps need to be taken to split between channels and align the transcription to IPUs/Words."
   ]
  },
  {
   "cell_type": "markdown",
   "metadata": {},
   "source": [
    "## Libraries"
   ]
  },
  {
   "cell_type": "code",
   "execution_count": null,
   "metadata": {},
   "outputs": [],
   "source": [
    "!pip install audiofile\n",
    "!pip install textgrid"
   ]
  },
  {
   "cell_type": "code",
   "execution_count": 430,
   "metadata": {},
   "outputs": [],
   "source": [
    "import os,sys\n",
    "import shutil\n",
    "import re\n",
    "import json\n",
    "import numpy as np\n",
    "import pandas as pd\n",
    "import audiofile\n",
    "from tqdm import tqdm\n",
    "import time\n",
    "import datetime\n",
    "from glob import glob\n",
    "import textgrid\n",
    "import shutil\n",
    "\n",
    "import seaborn as sns\n",
    "import matplotlib.pyplot as plt\n",
    "import IPython\n",
    "\n",
    "# google timeout\n",
    "from requests import ConnectionError\n",
    "\n",
    "# SPPAS\n",
    "SPPAS_PATH = \"/Users/eliot/Documents/tools/SPPAS\"\n",
    "sys.path.append(SPPAS_PATH)\n",
    "# reading / writing textgrids\n",
    "import sppas.src.anndata.aio.readwrite as spp\n",
    "import sppas.src.anndata as sad\n",
    "# searching for IPUs\n",
    "import sppas\n",
    "from sppas.src.annotations import sppasParam, sppasAnnotationsManager\n",
    "from sppas.src.plugins import sppasPluginsManager"
   ]
  },
  {
   "cell_type": "markdown",
   "metadata": {},
   "source": [
    "## Calling the model (Python)\n",
    "* [Audio resampling in Python](https://github.com/jonashaag/audio-resampling-in-python)\n",
    "* Paths with SPPAS: counts relatively from where the software is stored, no absolute paths\n",
    "* `RuntimeError: \"slow_conv2d_cpu\" not implemented for 'Half' #92` for [whisper](https://github.com/openai/whisper/discussions/92)"
   ]
  },
  {
   "cell_type": "code",
   "execution_count": 52,
   "metadata": {},
   "outputs": [],
   "source": [
    "import os\n",
    "import numpy as np\n",
    "\n",
    "try:\n",
    "    import tensorflow  # required in Colab to avoid protobuf compatibility issues\n",
    "except ImportError:\n",
    "    pass\n",
    "\n",
    "import torch\n",
    "import pandas as pd\n",
    "import whisper\n",
    "import torchaudio\n",
    "\n",
    "#from tqdm.notebook import tqdm\n",
    "\n",
    "DEVICE = \"cuda\" if torch.cuda.is_available() else \"cpu\""
   ]
  },
  {
   "cell_type": "code",
   "execution_count": 8,
   "metadata": {},
   "outputs": [],
   "source": [
    "import logging\n",
    "logger = logging.getLogger()\n",
    "logger.setLevel(logging.ERROR)"
   ]
  },
  {
   "cell_type": "code",
   "execution_count": 146,
   "metadata": {},
   "outputs": [],
   "source": [
    "def get_mel(audio, device=DEVICE):\n",
    "    audio = whisper.pad_or_trim(audio.flatten()).to(device) \n",
    "    # docstring: whisper.pad_or_trim(array, length: int = 480000, *, axis: int = -1)\n",
    "    mel = whisper.log_mel_spectrogram(audio)\n",
    "    return mel\n",
    "\n",
    "def resample_audio(audio, orig_fs:int, target_fq:int=16000, device=DEVICE):\n",
    "    if not isinstance(audio, torch.Tensor):\n",
    "        audio = torch.Tensor(audio, device=device)\n",
    "    # resample\n",
    "    rs = torchaudio.transforms.Resample(orig_freq=orig_fs, new_freq=target_fq)\n",
    "    return rs(audio)\n",
    "\n",
    "class AudioFileDataset(torch.utils.data.Dataset):\n",
    "    def __init__(self, filepath, device=DEVICE, fs_th:int=16000):\n",
    "        self.filepath = filepath \n",
    "        self.audio_duration = audiofile.duration(filepath)\n",
    "        self.audio, self.fs = audiofile.read(filepath, always_2d=True)\n",
    "        self.nb_channels = audiofile.channels(filepath)\n",
    "        self.device = device\n",
    "        print(f\"File {filepath}: {self.nb_channels} channels, sampling frequency = {self.fs}Hz, {self.audio_duration}s\")\n",
    "        print('Creating dataset...', end=' ')\n",
    "        if self.fs != fs_th:\n",
    "            self._resample(target_fq=fs_th)\n",
    "        self.ipus_bounds = self._searchipus()\n",
    "        self._create_dataset()\n",
    "        self.datasets = {'base':self.dataset}\n",
    "        print('done.')\n",
    "\n",
    "    def _resample(self, target_fq:int=16000):\n",
    "        # to tensor + resample\n",
    "        self.or_audio = self.audio\n",
    "        self.audio = resample_audio(self.audio, self.fs, target_fq, device=self.device)\n",
    "\n",
    "    def _searchipus(self):\n",
    "        \"\"\"For each channel, locate IPUs using SPPAS. \n",
    "        1. SPPAS creates new files \n",
    "        2. read from those files then delete them\n",
    "        \"\"\"\n",
    "        # SPPAS - activate\n",
    "        spass_log=f\"searchipus-{datetime.datetime.now().strftime('%y%m%d-%H:%M:%S')}-{self.filepath}\"\n",
    "        actions = ['searchipus']\n",
    "        parameters = sppasParam([f\"{x}.json\" for x in actions])\n",
    "        for x in actions:\n",
    "            ann_step_idx = parameters.activate_annotation(x)\n",
    "            ann_options = parameters.get_options(ann_step_idx)\n",
    "\n",
    "        # Files - for each channel\n",
    "        for c in range(self.nb_channels):\n",
    "            # extract sound and create a new file\n",
    "            ns = self.audio[c,:]\n",
    "            ns_path = os.path.join(SPPAS_PATH, f\"{self.filepath.split('/')[-1][:-4]}_mono_{c}.wav\")\n",
    "            audiofile.write(ns_path, ns, self.fs)\n",
    "            parameters.add_to_workspace(ns_path)\n",
    "    \n",
    "        # SPPAS - Fix the output file extension and others\n",
    "        parameters.set_lang(\"fra\")\n",
    "        parameters.set_output_extension('.TextGrid', \"ANNOT\")\n",
    "        parameters.set_report_filename(spass_log)\n",
    "        # SPPAS - Execute pipeline\n",
    "        process = sppasAnnotationsManager()\n",
    "        process.annotate(parameters)\n",
    "\n",
    "        # Files - read each file to dataset\n",
    "        ipus_bounds = []\n",
    "        for c in range(self.nb_channels):\n",
    "            ns_path = os.path.join(SPPAS_PATH, f\"{self.filepath.split('/')[-1][:-4]}_mono_{c}.wav\")\n",
    "            tg_path = f'{ns_path[:-4]}-ipus.TextGrid'\n",
    "            tg = textgrid.TextGrid.fromFile(tg_path)\n",
    "            for t in tg[0]:\n",
    "                if t.mark not in [\"#\",\"\"]: # check that\n",
    "                    ipus_bounds.append({\n",
    "                        'channel': c, 'start': t.minTime, 'stop': t.maxTime,\n",
    "                    })\n",
    "            # Files - cleanup sound and textgrid\n",
    "            os.remove(ns_path)\n",
    "            os.remove(tg_path)\n",
    "        \n",
    "        return pd.DataFrame(ipus_bounds)\n",
    "\n",
    "    def _create_dataset(self, fs:int=16000): # fs set by whisper\n",
    "        # from bounds + signal + fs, extract signal for each ipu\n",
    "        dataset = {}\n",
    "        for idx, row in tqdm(self.ipus_bounds.iterrows()):\n",
    "            dataset[idx] = [row.start, row.stop, int(row.channel), self.audio[int(row.channel), int(row.start*fs):int(row.stop*fs)]]\n",
    "        self.dataset = dataset\n",
    "\n",
    "    def _create_long_dataset(self, maximum_pause_duration:float=3, fs:int=16000, **kwargs):\n",
    "        self.ipus_bounds['duration'] = self.ipus_bounds.stop - self.ipus_bounds.start\n",
    "        self.ipus_bounds['pause'] = (self.ipus_bounds.start.shift(-1) - self.ipus_bounds.stop).fillna(0.) # last value\n",
    "        # aggregate - need to keep it shorter than 300s\n",
    "        self.ipus_bounds['new_line'] = self.ipus_bounds['pause'] > maximum_pause_duration\n",
    "        self.ipus_bounds['new_line_idx'] = self.ipus_bounds['new_line'].cumsum()\n",
    "        ipu_concat = self.ipus_bounds.groupby(['channel','new_line_idx']).agg({ 'start': 'min', 'stop':'max' }).reset_index(drop=False)\n",
    "        # call cataset - in other variable\n",
    "        dataset = {}\n",
    "        for idx, row in tqdm(ipu_concat.iterrows()):\n",
    "            dataset[idx] = [row.start, row.stop, int(row.channel), self.audio[int(row.channel), int(row.start*fs):int(row.stop*fs)]]\n",
    "        self.datasets[f'long_{maximum_pause_duration}'] = dataset\n",
    "\n",
    "    def set_dataset(self, mode:str, **kwargs):\n",
    "        if (mode not in self.datasets) and (mode != 'long'):\n",
    "            raise ValueError('`mode` should be in [\"base\",\"long\"]')\n",
    "        if mode in self.datasets:\n",
    "            print(f'Switching to {mode}')\n",
    "            self.dataset = self.datasets[mode]\n",
    "            self.mode = mode\n",
    "        elif mode == \"long\":\n",
    "            self._create_long_dataset(**kwargs)\n",
    "            mode = f\"long_{kwargs.get('maximum_pause_duration',3) }\"\n",
    "            print(f'Switching to concatenated IPUs - {mode}')\n",
    "            self.dataset = self.datasets[mode]\n",
    "            self.mode = mode\n",
    "\n",
    "    def __len__(self):\n",
    "        return len(self.dataset)\n",
    "    \n",
    "    def __getitem__(self, item):\n",
    "        start, stop, channel, audio = self.dataset[item]\n",
    "        if not isinstance(audio, torch.Tensor):\n",
    "            audio = torch.Tensor(audio, device=self.device)\n",
    "        mel = get_mel(audio, device=self.device)\n",
    "        return start, stop, channel, mel"
   ]
  },
  {
   "cell_type": "code",
   "execution_count": 123,
   "metadata": {},
   "outputs": [
    {
     "name": "stdout",
     "output_type": "stream",
     "text": [
      "File ~/Downloads/tmp/bkt-pilot-221103-audio.wav: 2 channels, sampling frequency = 16000Hz, 2703.68s\n",
      "Creating dataset... "
     ]
    },
    {
     "name": "stderr",
     "output_type": "stream",
     "text": [
      "1237it [00:00, 34969.97it/s]"
     ]
    },
    {
     "name": "stdout",
     "output_type": "stream",
     "text": [
      "done.\n"
     ]
    },
    {
     "name": "stderr",
     "output_type": "stream",
     "text": [
      "\n"
     ]
    }
   ],
   "source": [
    "filepath = \"~/Downloads/tmp/bkt-pilot-221103-audio.wav\"\n",
    "dataset = AudioFileDataset(filepath)\n",
    "loader = torch.utils.data.DataLoader(dataset, batch_size=16)"
   ]
  },
  {
   "cell_type": "code",
   "execution_count": 42,
   "metadata": {},
   "outputs": [],
   "source": [
    "model = whisper.load_model(\"base\")\n",
    "options = whisper.DecodingOptions(language=\"fr\", without_timestamps=False, fp16 = False)"
   ]
  },
  {
   "cell_type": "code",
   "execution_count": 43,
   "metadata": {},
   "outputs": [],
   "source": [
    "start, stop, channel, mels = dataset[0]\n",
    "results = model.decode(mels, options)"
   ]
  },
  {
   "cell_type": "code",
   "execution_count": 60,
   "metadata": {},
   "outputs": [
    {
     "name": "stderr",
     "output_type": "stream",
     "text": [
      "100%|██████████| 40/40 [12:22<00:00, 18.57s/it]\n"
     ]
    }
   ],
   "source": [
    "transcr = {'start':[], 'stop':[], 'channel':[], 'text': []}\n",
    "for start, stop, channel, mels in tqdm(loader):\n",
    "    results = model.decode(mels, options)\n",
    "    ### nope batch\n",
    "    # if 'text' in dir(results):\n",
    "    #     text = results.text\n",
    "    # else:\n",
    "    #     text = ' '.join([result.text for result in results])\n",
    "    # transcr.append({ 'channel': channel, 'start':start, 'stop':stop, 'text': text })\n",
    "    ### batch >> extend\n",
    "    for k,v in zip(['start','stop','channel','text'],[start, stop, channel, [result.text for result in results]]):\n",
    "        if not isinstance(v,list):\n",
    "            v = v.tolist()\n",
    "        transcr[k].extend(v)\n",
    "\n",
    "transcr = pd.DataFrame(transcr)\n",
    "#transcr['start'] = transcr.start.apply(lambda x: x.item())"
   ]
  },
  {
   "cell_type": "code",
   "execution_count": 73,
   "metadata": {},
   "outputs": [
    {
     "data": {
      "text/html": [
       "<div>\n",
       "<style scoped>\n",
       "    .dataframe tbody tr th:only-of-type {\n",
       "        vertical-align: middle;\n",
       "    }\n",
       "\n",
       "    .dataframe tbody tr th {\n",
       "        vertical-align: top;\n",
       "    }\n",
       "\n",
       "    .dataframe thead th {\n",
       "        text-align: right;\n",
       "    }\n",
       "</style>\n",
       "<table border=\"1\" class=\"dataframe\">\n",
       "  <thead>\n",
       "    <tr style=\"text-align: right;\">\n",
       "      <th></th>\n",
       "      <th>start</th>\n",
       "      <th>stop</th>\n",
       "      <th>channel</th>\n",
       "      <th>text</th>\n",
       "    </tr>\n",
       "  </thead>\n",
       "  <tbody>\n",
       "    <tr>\n",
       "      <th>0</th>\n",
       "      <td>1.375</td>\n",
       "      <td>2.215</td>\n",
       "      <td>0</td>\n",
       "      <td>ok</td>\n",
       "    </tr>\n",
       "    <tr>\n",
       "      <th>1</th>\n",
       "      <td>2.715</td>\n",
       "      <td>5.060</td>\n",
       "      <td>0</td>\n",
       "      <td>donc, qui se tracent à mouge?</td>\n",
       "    </tr>\n",
       "    <tr>\n",
       "      <th>2</th>\n",
       "      <td>6.190</td>\n",
       "      <td>10.355</td>\n",
       "      <td>0</td>\n",
       "      <td>carré. Il y a une horloge.</td>\n",
       "    </tr>\n",
       "    <tr>\n",
       "      <th>3</th>\n",
       "      <td>10.975</td>\n",
       "      <td>11.985</td>\n",
       "      <td>0</td>\n",
       "      <td>à cause de la tronte.</td>\n",
       "    </tr>\n",
       "    <tr>\n",
       "      <th>4</th>\n",
       "      <td>12.205</td>\n",
       "      <td>13.065</td>\n",
       "      <td>0</td>\n",
       "      <td>...</td>\n",
       "    </tr>\n",
       "  </tbody>\n",
       "</table>\n",
       "</div>"
      ],
      "text/plain": [
       "    start    stop  channel                           text\n",
       "0   1.375   2.215        0                             ok\n",
       "1   2.715   5.060        0  donc, qui se tracent à mouge?\n",
       "2   6.190  10.355        0     carré. Il y a une horloge.\n",
       "3  10.975  11.985        0          à cause de la tronte.\n",
       "4  12.205  13.065        0                            ..."
      ]
     },
     "execution_count": 73,
     "metadata": {},
     "output_type": "execute_result"
    }
   ],
   "source": [
    "transcr.head()"
   ]
  },
  {
   "cell_type": "markdown",
   "metadata": {},
   "source": [
    "Results aren't very good \n",
    "* option 1: try with model other than `'base'` \n",
    "* option 2: try with longer audios\n",
    "* option 3: issue with resampling that needs to be done before"
   ]
  },
  {
   "cell_type": "markdown",
   "metadata": {},
   "source": [
    "### Option 1: with heavier model"
   ]
  },
  {
   "cell_type": "code",
   "execution_count": 74,
   "metadata": {},
   "outputs": [
    {
     "name": "stderr",
     "output_type": "stream",
     "text": [
      "100%|█████████████████████████████████████| 1.42G/1.42G [24:33<00:00, 1.04MiB/s]\n"
     ]
    }
   ],
   "source": [
    "# available models: tiny base small medium large\n",
    "# default setting from command line: using 'small' model\n",
    "model = whisper.load_model(\"medium\")\n"
   ]
  },
  {
   "cell_type": "code",
   "execution_count": 75,
   "metadata": {},
   "outputs": [
    {
     "name": "stderr",
     "output_type": "stream",
     "text": [
      "100%|██████████| 40/40 [1:59:45<00:00, 179.64s/it]  \n"
     ]
    },
    {
     "data": {
      "text/html": [
       "<div>\n",
       "<style scoped>\n",
       "    .dataframe tbody tr th:only-of-type {\n",
       "        vertical-align: middle;\n",
       "    }\n",
       "\n",
       "    .dataframe tbody tr th {\n",
       "        vertical-align: top;\n",
       "    }\n",
       "\n",
       "    .dataframe thead th {\n",
       "        text-align: right;\n",
       "    }\n",
       "</style>\n",
       "<table border=\"1\" class=\"dataframe\">\n",
       "  <thead>\n",
       "    <tr style=\"text-align: right;\">\n",
       "      <th></th>\n",
       "      <th>start</th>\n",
       "      <th>stop</th>\n",
       "      <th>channel</th>\n",
       "      <th>text</th>\n",
       "    </tr>\n",
       "  </thead>\n",
       "  <tbody>\n",
       "    <tr>\n",
       "      <th>0</th>\n",
       "      <td>1.375</td>\n",
       "      <td>2.215</td>\n",
       "      <td>0</td>\n",
       "      <td>ok</td>\n",
       "    </tr>\n",
       "    <tr>\n",
       "      <th>1</th>\n",
       "      <td>2.715</td>\n",
       "      <td>5.060</td>\n",
       "      <td>0</td>\n",
       "      <td>donc, qui se tracent à mouge?</td>\n",
       "    </tr>\n",
       "    <tr>\n",
       "      <th>2</th>\n",
       "      <td>6.190</td>\n",
       "      <td>10.355</td>\n",
       "      <td>0</td>\n",
       "      <td>carré. Il y a une horloge.</td>\n",
       "    </tr>\n",
       "    <tr>\n",
       "      <th>3</th>\n",
       "      <td>10.975</td>\n",
       "      <td>11.985</td>\n",
       "      <td>0</td>\n",
       "      <td>à cause de la tronte.</td>\n",
       "    </tr>\n",
       "    <tr>\n",
       "      <th>4</th>\n",
       "      <td>12.205</td>\n",
       "      <td>13.065</td>\n",
       "      <td>0</td>\n",
       "      <td>...</td>\n",
       "    </tr>\n",
       "  </tbody>\n",
       "</table>\n",
       "</div>"
      ],
      "text/plain": [
       "    start    stop  channel                           text\n",
       "0   1.375   2.215        0                             ok\n",
       "1   2.715   5.060        0  donc, qui se tracent à mouge?\n",
       "2   6.190  10.355        0     carré. Il y a une horloge.\n",
       "3  10.975  11.985        0          à cause de la tronte.\n",
       "4  12.205  13.065        0                            ..."
      ]
     },
     "execution_count": 75,
     "metadata": {},
     "output_type": "execute_result"
    }
   ],
   "source": [
    "t2 = {'start':[], 'stop':[], 'channel':[], 'text': []}\n",
    "for start, stop, channel, mels in tqdm(loader):\n",
    "    results = model.decode(mels, options)\n",
    "    for k,v in zip(['start','stop','channel','text'],[start, stop, channel, [result.text for result in results]]):\n",
    "        if not isinstance(v,list):\n",
    "            v = v.tolist()\n",
    "        t2[k].extend(v)\n",
    "\n",
    "t2 = pd.DataFrame(transcr)\n",
    "t2.head()"
   ]
  },
  {
   "cell_type": "markdown",
   "metadata": {},
   "source": [
    "### Option 2: with longer extracts\n",
    "* Either configuring SPPAS differently for the IPUs\n",
    "* Or using longer audio sequences in the model (max: 480000 / 16000 = 300 seconds)\n",
    "\n",
    "Whisper can be used directly to transcribe. [From Doc] Internally, the `transcribe()` method reads the entire file and processes the audio with a sliding 30-second window, performing autoregressive sequence-to-sequence predictions on each window."
   ]
  },
  {
   "cell_type": "markdown",
   "metadata": {},
   "source": [
    "Configuring SPPAS differently:"
   ]
  },
  {
   "cell_type": "code",
   "execution_count": 76,
   "metadata": {},
   "outputs": [],
   "source": [
    "#spass_log=f\"searchipus-{datetime.datetime.now().strftime('%y%m%d-%H:%M:%S')}-{self.filepath}\"\n",
    "actions = ['searchipus']\n",
    "parameters = sppasParam([f\"{x}.json\" for x in actions])\n",
    "for x in actions:\n",
    "    ann_step_idx = parameters.activate_annotation(x)\n",
    "    ann_options = parameters.get_options(ann_step_idx)"
   ]
  },
  {
   "cell_type": "code",
   "execution_count": 78,
   "metadata": {},
   "outputs": [
    {
     "data": {
      "text/plain": [
       "<sppas.src.structs.baseoption.sppasOption at 0x13a0c6d00>"
      ]
     },
     "execution_count": 78,
     "metadata": {},
     "output_type": "execute_result"
    }
   ],
   "source": [
    "ann_options[0]"
   ]
  },
  {
   "cell_type": "markdown",
   "metadata": {},
   "source": [
    "Using longer sequences of audio (using window):"
   ]
  },
  {
   "cell_type": "code",
   "execution_count": 92,
   "metadata": {},
   "outputs": [
    {
     "data": {
      "text/plain": [
       "torch.Size([2, 43259200])"
      ]
     },
     "execution_count": 92,
     "metadata": {},
     "output_type": "execute_result"
    }
   ],
   "source": [
    "audio_duration = audiofile.duration(filepath)\n",
    "audio, fs = audiofile.read(filepath, always_2d=True)\n",
    "nb_channels = audiofile.channels(filepath)\n",
    "audio = resample_audio(audio, fs)\n",
    "audio.shape"
   ]
  },
  {
   "cell_type": "code",
   "execution_count": 106,
   "metadata": {},
   "outputs": [],
   "source": [
    "def predict_extract(model, audio, s_start:float=0., s_stop:float=300., channel:int=0, \n",
    "            device=DEVICE, model_options=whisper.DecodingOptions()):\n",
    "    fs = 16000\n",
    "    audio = audio[channel, int(s_start*fs):int(s_stop*fs)]\n",
    "    mel = get_mel(audio, device)\n",
    "    results = model.decode(mel, model_options)\n",
    "    return results"
   ]
  },
  {
   "cell_type": "code",
   "execution_count": null,
   "metadata": {},
   "outputs": [],
   "source": [
    "res = predict_extract(model, audio, model_options=options)"
   ]
  },
  {
   "cell_type": "code",
   "execution_count": 110,
   "metadata": {},
   "outputs": [
    {
     "data": {
      "text/plain": [
       "DecodingResult(audio_features=tensor([[-1.2868e-01,  7.4106e-01, -1.8666e-01,  ...,  3.0302e-01,\n",
       "          3.1401e-01,  1.4705e+00],\n",
       "        [ 2.8794e-02,  4.5873e-01,  3.7895e-01,  ...,  3.5652e-03,\n",
       "         -1.7153e-01,  8.3642e-01],\n",
       "        [ 1.8124e-01,  2.4811e-02,  2.5020e-01,  ..., -3.3304e-01,\n",
       "         -4.4838e-01,  2.3060e-01],\n",
       "        ...,\n",
       "        [ 3.0571e-01,  3.7052e-01,  3.0373e-01,  ...,  3.4993e-01,\n",
       "         -3.4388e-01,  1.5461e+00],\n",
       "        [-4.0124e-01,  8.9956e-01,  8.0569e-01,  ...,  2.0286e+00,\n",
       "         -1.8074e-03,  1.3847e+00],\n",
       "        [-1.1076e+00,  5.8126e-01,  1.3918e+00,  ...,  1.7550e+00,\n",
       "         -9.9986e-01,  1.0190e+00]]), language='fr', language_probs=None, tokens=[50364, 7477, 421, 6, 377, 1769, 631, 2604, 382, 5173, 10088, 11, 5173, 9686, 1032, 10521, 2506, 50688, 50688, 4416, 288, 257, 2251, 2569, 752, 432, 1531, 18437, 368, 287, 6, 2335, 752, 432, 1030, 1930, 288, 257, 2251, 7089, 30236, 368, 3119, 908, 4163, 517, 19393, 298, 1462, 3599, 51508, 51508, 1030, 1930, 288, 257, 517, 15738, 266, 2324, 425, 526, 1030, 1930, 288, 257, 31334, 15738, 892, 40605, 11, 5408, 84, 11, 6509, 1030, 2784, 2613, 13, 51754, 51754], text=\"Donc qu'est ce que tu as comme module, comme petit carré? Il y a une horloge à côté de l'horloge et il y a une espèce de balise avec un chronomètre et il y a un bouton annulé et il y a quatre boutons rouge, bleu, vert et jaune.\", avg_logprob=-0.28261496381061835, no_speech_prob=0.36415377259254456, temperature=0.0, compression_ratio=1.4099378881987579)"
      ]
     },
     "execution_count": 110,
     "metadata": {},
     "output_type": "execute_result"
    }
   ],
   "source": [
    "res"
   ]
  },
  {
   "cell_type": "code",
   "execution_count": 115,
   "metadata": {},
   "outputs": [
    {
     "name": "stdout",
     "output_type": "stream",
     "text": [
      " Donc qu'est ce que tu as comme module, comme petit carré? Il y a une horloge à côté de l'horloge et il y a une espèce de balise avec un chronomètre et il y a un bouton annulé et il y a quatre boutons rouge, bleu, vert et jaune. Rouges, bleu, vert, jaune, on va aller là-dessus. Tu cliques sur cela. Ça s'appelle un Simon, Simon Says. Donc un des quatre boutons va s'allumer. Oui. Voilà. Quel bouton s'allumer? Jaune. Dans ce cas, déjà est-ce que tu vois le numéro de série ou pas? Un numéro. Non. Non. Clique sur vert. Est-ce que ça t'a mis quelque chose?\n"
     ]
    }
   ],
   "source": [
    "result = model.transcribe(audio[1, 0:(60*16000)], fp16=False)\n",
    "print(result[\"text\"])"
   ]
  },
  {
   "cell_type": "markdown",
   "metadata": {},
   "source": [
    "Using longer sequences of audio (using IPU):"
   ]
  },
  {
   "cell_type": "code",
   "execution_count": 147,
   "metadata": {},
   "outputs": [
    {
     "name": "stdout",
     "output_type": "stream",
     "text": [
      "File ~/Downloads/tmp/bkt-pilot-221103-audio.wav: 2 channels, sampling frequency = 16000Hz, 2703.68s\n",
      "Creating dataset... "
     ]
    },
    {
     "name": "stderr",
     "output_type": "stream",
     "text": [
      "1237it [00:00, 32883.89it/s]\n"
     ]
    },
    {
     "name": "stdout",
     "output_type": "stream",
     "text": [
      "done.\n"
     ]
    },
    {
     "name": "stderr",
     "output_type": "stream",
     "text": [
      "284it [00:00, 33185.19it/s]"
     ]
    },
    {
     "name": "stdout",
     "output_type": "stream",
     "text": [
      "Switching to concatenated IPUs - long_3\n",
      "284\n"
     ]
    },
    {
     "name": "stderr",
     "output_type": "stream",
     "text": [
      "\n"
     ]
    }
   ],
   "source": [
    "dataset = AudioFileDataset(filepath)\n",
    "dataset.set_dataset(\"long\")\n",
    "print(len(dataset.dataset))\n",
    "loader = torch.utils.data.DataLoader(dataset, batch_size=16)"
   ]
  },
  {
   "cell_type": "code",
   "execution_count": 149,
   "metadata": {},
   "outputs": [
    {
     "name": "stderr",
     "output_type": "stream",
     "text": [
      "100%|██████████| 18/18 [1:17:21<00:00, 257.86s/it]\n"
     ]
    },
    {
     "data": {
      "text/html": [
       "<div>\n",
       "<style scoped>\n",
       "    .dataframe tbody tr th:only-of-type {\n",
       "        vertical-align: middle;\n",
       "    }\n",
       "\n",
       "    .dataframe tbody tr th {\n",
       "        vertical-align: top;\n",
       "    }\n",
       "\n",
       "    .dataframe thead th {\n",
       "        text-align: right;\n",
       "    }\n",
       "</style>\n",
       "<table border=\"1\" class=\"dataframe\">\n",
       "  <thead>\n",
       "    <tr style=\"text-align: right;\">\n",
       "      <th></th>\n",
       "      <th>start</th>\n",
       "      <th>stop</th>\n",
       "      <th>channel</th>\n",
       "      <th>text</th>\n",
       "    </tr>\n",
       "  </thead>\n",
       "  <tbody>\n",
       "    <tr>\n",
       "      <th>0</th>\n",
       "      <td>8.185</td>\n",
       "      <td>12.365</td>\n",
       "      <td>0</td>\n",
       "      <td>Il y a une horloge, il est 10h31.</td>\n",
       "    </tr>\n",
       "    <tr>\n",
       "      <th>1</th>\n",
       "      <td>13.900</td>\n",
       "      <td>22.670</td>\n",
       "      <td>0</td>\n",
       "      <td>et il a une espèce de balise avec un chronomètre.</td>\n",
       "    </tr>\n",
       "    <tr>\n",
       "      <th>2</th>\n",
       "      <td>22.895</td>\n",
       "      <td>27.510</td>\n",
       "      <td>0</td>\n",
       "      <td>Il y a un bouton annulé. Il y a quatre boutons...</td>\n",
       "    </tr>\n",
       "    <tr>\n",
       "      <th>3</th>\n",
       "      <td>42.555</td>\n",
       "      <td>42.985</td>\n",
       "      <td>0</td>\n",
       "      <td>Et je...</td>\n",
       "    </tr>\n",
       "    <tr>\n",
       "      <th>4</th>\n",
       "      <td>50.195</td>\n",
       "      <td>96.000</td>\n",
       "      <td>0</td>\n",
       "      <td>Euh... Non. Non. Euh... Clique sur vert. Est-c...</td>\n",
       "    </tr>\n",
       "  </tbody>\n",
       "</table>\n",
       "</div>"
      ],
      "text/plain": [
       "    start    stop  channel                                               text\n",
       "0   8.185  12.365        0                  Il y a une horloge, il est 10h31.\n",
       "1  13.900  22.670        0  et il a une espèce de balise avec un chronomètre.\n",
       "2  22.895  27.510        0  Il y a un bouton annulé. Il y a quatre boutons...\n",
       "3  42.555  42.985        0                                           Et je...\n",
       "4  50.195  96.000        0  Euh... Non. Non. Euh... Clique sur vert. Est-c..."
      ]
     },
     "execution_count": 149,
     "metadata": {},
     "output_type": "execute_result"
    }
   ],
   "source": [
    "t3 = {'start':[], 'stop':[], 'channel':[], 'text': []}\n",
    "for start, stop, channel, mels in tqdm(loader):\n",
    "    results = model.decode(mels, options)\n",
    "    for k,v in zip(['start','stop','channel','text'],[start, stop, channel, [result.text for result in results]]):\n",
    "        if not isinstance(v,list):\n",
    "            v = v.tolist()\n",
    "        t3[k].extend(v)\n",
    "\n",
    "t3 = pd.DataFrame(t3)\n",
    "t3.head()"
   ]
  },
  {
   "cell_type": "markdown",
   "metadata": {},
   "source": [
    "Conclusion: longer sequences required."
   ]
  },
  {
   "cell_type": "markdown",
   "metadata": {},
   "source": [
    "## Writing to TextGrid"
   ]
  },
  {
   "cell_type": "code",
   "execution_count": 150,
   "metadata": {},
   "outputs": [],
   "source": [
    "transcr.to_csv(\"~/Downloads/tmp/bkt-pilot-221103-ipu-base.csv\", index=False)\n",
    "t2.to_csv(\"~/Downloads/tmp/bkt-pilot-221103-ipu-medium.csv\", index=False)\n",
    "t3.to_csv(\"~/Downloads/tmp/bkt-pilot-221103-agg-medium.csv\", index=False)"
   ]
  },
  {
   "cell_type": "code",
   "execution_count": 154,
   "metadata": {},
   "outputs": [],
   "source": [
    "#sys.path.append(\"/Users/eliot/Documents/projects/multimodal-grounding\")\n",
    "#cannot use if not everything is installed\n",
    "#sys.path.append(\"/Users/eliot/Documents/projects/multimodal-grounding/multimodalgrounding/utils\")\n",
    "#from sppasfunc import interval_to_textgrid\n",
    "\n",
    "def interval_to_textgrid(df:pd.DataFrame, file_name:str, \n",
    "                    example_file:str='/Users/eliot/Documents/projects/multimodal-grounding/multimodalgrounding/utils/example.TextGrid', \n",
    "                    annot_tier:str='google-annot', text_column:str='concatenated_text',\n",
    "                    timestart_col:str='start_time', timestop_col:str='stop_time',\n",
    "                    file_duration:float=None):\n",
    "    \"\"\"Write data from a dataframe into a TextGrid file in intervals\n",
    "    \"\"\" \n",
    "    # Create / Read file\n",
    "    if os.path.exists(file_name):\n",
    "        parser = spp.sppasTrsRW(file_name)\n",
    "        tier_list = parser.read()\n",
    "    elif not os.path.exists(example_file):\n",
    "        raise ValueError(f'`example_file` argument must point to an existing file.')\n",
    "    else:\n",
    "        parser = spp.sppasTrsRW(example_file)\n",
    "        tier_list = parser.create_trs_from_extension(example_file)\n",
    "    # Create annotations\n",
    "    tier = tier_list.create_tier(annot_tier)\n",
    "    prev_point = sad.sppasPoint(0.0,0.0)\n",
    "    # Sequentially add rows\n",
    "    for _,row in tqdm(df.iterrows()):\n",
    "        if row[timestart_col] < row[timestop_col]:\n",
    "            if prev_point < row[timestart_col]:\n",
    "                # Add silence rows\n",
    "                interval = sad.sppasInterval(prev_point, sad.sppasPoint(row[timestart_col], 0.0))\n",
    "                tier.create_annotation(sad.sppasLocation(interval), sad.sppasLabel(sad.sppasTag('#')))\n",
    "            # Add row\n",
    "            interval = sad.sppasInterval(sad.sppasPoint(row[timestart_col],0.0), sad.sppasPoint(row[timestop_col], 0.0))\n",
    "            tier.create_annotation(sad.sppasLocation(interval), sad.sppasLabel(sad.sppasTag(row[text_column])))\n",
    "            prev_point = sad.sppasPoint(row[timestop_col], 0.0)\n",
    "        else:\n",
    "            print(\"\\nError printing the following row:\")\n",
    "            print(row)\n",
    "    if file_duration is not None:\n",
    "        interval = sad.sppasInterval(sad.sppasPoint(df[timestop_col].iloc[0],0.0), sad.sppasPoint(file_duration, 0.0))\n",
    "        tier.create_annotation(sad.sppasLocation(interval), sad.sppasLabel(sad.sppasTag('#')))\n",
    "\n",
    "    parser.set_filename(file_name)\n",
    "    parser.write(tier_list)"
   ]
  },
  {
   "cell_type": "code",
   "execution_count": 159,
   "metadata": {},
   "outputs": [
    {
     "name": "stderr",
     "output_type": "stream",
     "text": [
      "155it [00:00, 7191.56it/s]\n",
      "129it [00:00, 9184.76it/s]\n"
     ]
    }
   ],
   "source": [
    "for c in [0,1]:\n",
    "    interval_to_textgrid(t3[t3.channel == c], file_name=\"bkt-pilot-221103.TextGrid\", \n",
    "            annot_tier=f'spk{c}', text_column='text', timestart_col='start', timestop_col='stop',\n",
    "            file_duration=dataset.audio_duration)"
   ]
  },
  {
   "cell_type": "markdown",
   "metadata": {},
   "source": [
    "## Aligning"
   ]
  },
  {
   "cell_type": "code",
   "execution_count": 165,
   "metadata": {},
   "outputs": [
    {
     "data": {
      "text/plain": [
       "['~', 'Documents', 'tools', 'SPPAS']"
      ]
     },
     "execution_count": 165,
     "metadata": {},
     "output_type": "execute_result"
    }
   ],
   "source": [
    "def relpath_from_sppas(abs_path):\n",
    "    tildepath = \"/Users/eliot\"\n",
    "    SPPAS_PATH.replace(, \"~\").split('/')"
   ]
  },
  {
   "cell_type": "code",
   "execution_count": 162,
   "metadata": {},
   "outputs": [
    {
     "data": {
      "text/plain": [
       "['cours',\n",
       " 'tools',\n",
       " '.DS_Store',\n",
       " '.localized',\n",
       " 'projects',\n",
       " 'github',\n",
       " '0_official',\n",
       " 'data-raw']"
      ]
     },
     "execution_count": 162,
     "metadata": {},
     "output_type": "execute_result"
    }
   ],
   "source": [
    "os.listdir(os.path.join(SPPAS_PATH, '../../../Dow'))"
   ]
  },
  {
   "cell_type": "code",
   "execution_count": 166,
   "metadata": {},
   "outputs": [
    {
     "data": {
      "text/plain": [
       "'~/Downloads/tmp/bkt-pilot-221103-audio.wav'"
      ]
     },
     "execution_count": 166,
     "metadata": {},
     "output_type": "execute_result"
    }
   ],
   "source": [
    "filepath"
   ]
  },
  {
   "cell_type": "code",
   "execution_count": null,
   "metadata": {},
   "outputs": [],
   "source": [
    "ns_path = os.path.join(SPPAS_PATH, f\"{self.filepath.split('/')[-1][:-4]}.wav\")\n",
    "            audiofile.write(ns_path, ns, self.fs)\n",
    "            parameters.add_to_workspace(ns_path)\n",
    "    \n",
    "        # SPPAS - Fix the output file extension and others\n",
    "        parameters.set_lang(\"fra\")\n",
    "        parameters.set_output_extension('.TextGrid', \"ANNOT\")\n",
    "        parameters.set_report_filename(spass_log)\n",
    "        # SPPAS - Execute pipeline\n",
    "        process = sppasAnnotationsManager()\n",
    "        process.annotate(parameters)\n",
    "\n",
    "        # Files - read each file to dataset\n",
    "        ipus_bounds = []\n",
    "        for c in range(self.nb_channels):\n",
    "            ns_path = f\"{filepath.split('/')[-1][:-4]}.wav\"\n",
    "            tg_path = f'{ns_path[:-4]}-align.TextGrid'\n",
    "            tg = textgrid.TextGrid.fromFile(tg_path)\n",
    "            for t in tg[0]:\n",
    "                if t.mark not in [\"#\",\"\"]: # check that\n",
    "                    ipus_bounds.append({\n",
    "                        'channel': c, 'start': t.minTime, 'stop': t.maxTime,\n",
    "                    })\n",
    "            # Files - cleanup sound and textgrid\n",
    "            os.remove(ns_path)\n",
    "            os.remove(tg_path)"
   ]
  },
  {
   "cell_type": "code",
   "execution_count": 169,
   "metadata": {},
   "outputs": [],
   "source": [
    "logger.setLevel(logging.WARNING)"
   ]
  },
  {
   "cell_type": "code",
   "execution_count": 179,
   "metadata": {},
   "outputs": [
    {
     "name": "stderr",
     "output_type": "stream",
     "text": [
      "2022-11-09 13:30:19,731 [WARNING] The OS didn't defined a valid default locale.\n",
      "2022-11-09 13:30:19,732 [WARNING] The OS didn't defined a valid default locale.\n",
      "2022-11-09 13:30:19,733 [WARNING] The OS didn't defined a valid default locale.\n",
      "2022-11-09 13:30:19,733 [WARNING] The OS didn't defined a valid default locale.\n",
      "2022-11-09 13:30:19,734 [WARNING] The OS didn't defined a valid default locale.\n",
      "2022-11-09 13:30:19,736 [WARNING] The OS didn't defined a valid default locale.\n",
      "2022-11-09 13:30:19,737 [WARNING] The OS didn't defined a valid default locale.\n",
      "2022-11-09 13:30:19,737 [WARNING] The OS didn't defined a valid default locale.\n",
      "2022-11-09 13:30:19,737 [WARNING] The OS didn't defined a valid default locale.\n",
      "2022-11-09 13:30:19,738 [WARNING] The OS didn't defined a valid default locale.\n",
      "2022-11-09 13:30:19,739 [WARNING] The OS didn't defined a valid default locale.\n",
      "2022-11-09 13:30:19,739 [WARNING] The OS didn't defined a valid default locale.\n",
      "2022-11-09 13:30:19,740 [WARNING] The OS didn't defined a valid default locale.\n",
      "2022-11-09 13:30:19,742 [WARNING] The OS didn't defined a valid default locale.\n",
      "2022-11-09 13:30:19,743 [WARNING] The OS didn't defined a valid default locale.\n",
      "2022-11-09 13:30:19,744 [WARNING] The OS didn't defined a valid default locale.\n",
      "2022-11-09 13:30:19,744 [WARNING] The OS didn't defined a valid default locale.\n",
      "2022-11-09 13:30:19,745 [WARNING] The OS didn't defined a valid default locale.\n",
      "2022-11-09 13:30:19,747 [WARNING] The OS didn't defined a valid default locale.\n",
      "2022-11-09 13:30:19,749 [WARNING] The OS didn't defined a valid default locale.\n",
      "2022-11-09 13:30:19,752 [WARNING] The OS didn't defined a valid default locale.\n",
      "2022-11-09 13:30:19,759 [WARNING] The OS didn't defined a valid default locale.\n",
      "2022-11-09 13:30:19,762 [WARNING] The OS didn't defined a valid default locale.\n",
      "2022-11-09 13:30:19,764 [WARNING] The OS didn't defined a valid default locale.\n",
      "2022-11-09 13:30:19,766 [WARNING] The OS didn't defined a valid default locale.\n",
      "2022-11-09 13:30:19,769 [WARNING] The OS didn't defined a valid default locale.\n",
      "2022-11-09 13:30:19,771 [WARNING] The OS didn't defined a valid default locale.\n",
      "2022-11-09 13:30:19,772 [WARNING] The OS didn't defined a valid default locale.\n",
      "2022-11-09 13:30:19,773 [WARNING] The OS didn't defined a valid default locale.\n",
      "2022-11-09 13:30:19,774 [WARNING] The OS didn't defined a valid default locale.\n",
      "2022-11-09 13:30:19,776 [WARNING] The OS didn't defined a valid default locale.\n",
      "2022-11-09 13:30:19,778 [WARNING] The OS didn't defined a valid default locale.\n",
      "2022-11-09 13:30:19,779 [WARNING] The OS didn't defined a valid default locale.\n",
      "2022-11-09 13:30:19,780 [WARNING] The OS didn't defined a valid default locale.\n",
      "2022-11-09 13:30:19,781 [WARNING] The OS didn't defined a valid default locale.\n",
      "2022-11-09 13:30:19,784 [WARNING] The OS didn't defined a valid default locale.\n",
      "2022-11-09 13:30:19,785 [WARNING] The OS didn't defined a valid default locale.\n",
      "2022-11-09 13:30:19,785 [WARNING] The OS didn't defined a valid default locale.\n",
      "2022-11-09 13:30:19,787 [WARNING] The OS didn't defined a valid default locale.\n",
      "2022-11-09 13:30:19,787 [WARNING] The OS didn't defined a valid default locale.\n",
      "2022-11-09 13:30:19,788 [WARNING] The OS didn't defined a valid default locale.\n",
      "2022-11-09 13:30:19,788 [WARNING] The OS didn't defined a valid default locale.\n",
      "2022-11-09 13:30:19,789 [WARNING] The OS didn't defined a valid default locale.\n",
      "2022-11-09 13:30:19,790 [WARNING] The OS didn't defined a valid default locale.\n",
      "2022-11-09 13:30:19,790 [WARNING] The OS didn't defined a valid default locale.\n",
      "2022-11-09 13:30:19,791 [WARNING] The OS didn't defined a valid default locale.\n",
      "2022-11-09 13:30:19,791 [WARNING] The OS didn't defined a valid default locale.\n",
      "2022-11-09 13:30:19,792 [WARNING] The OS didn't defined a valid default locale.\n",
      "2022-11-09 13:30:19,793 [WARNING] The OS didn't defined a valid default locale.\n",
      "2022-11-09 13:30:19,795 [WARNING] The OS didn't defined a valid default locale.\n",
      "2022-11-09 13:30:19,796 [WARNING] The OS didn't defined a valid default locale.\n",
      "2022-11-09 13:30:19,797 [WARNING] The OS didn't defined a valid default locale.\n",
      "2022-11-09 13:30:19,799 [WARNING] The OS didn't defined a valid default locale.\n",
      "2022-11-09 13:30:19,802 [WARNING] The OS didn't defined a valid default locale.\n",
      "2022-11-09 13:30:19,804 [WARNING] The OS didn't defined a valid default locale.\n",
      "2022-11-09 13:30:19,805 [WARNING] The OS didn't defined a valid default locale.\n",
      "2022-11-09 13:30:19,806 [WARNING] The OS didn't defined a valid default locale.\n",
      "2022-11-09 13:30:19,807 [WARNING] The OS didn't defined a valid default locale.\n",
      "2022-11-09 13:30:19,807 [WARNING] The OS didn't defined a valid default locale.\n",
      "2022-11-09 13:30:19,808 [WARNING] The OS didn't defined a valid default locale.\n",
      "2022-11-09 13:30:19,809 [WARNING] The OS didn't defined a valid default locale.\n",
      "2022-11-09 13:30:19,809 [WARNING] The OS didn't defined a valid default locale.\n",
      "2022-11-09 13:30:19,810 [WARNING] The OS didn't defined a valid default locale.\n",
      "2022-11-09 13:30:19,811 [WARNING] The OS didn't defined a valid default locale.\n",
      "2022-11-09 13:30:19,812 [WARNING] The OS didn't defined a valid default locale.\n",
      "2022-11-09 13:30:19,813 [WARNING] The OS didn't defined a valid default locale.\n",
      "2022-11-09 13:30:19,813 [WARNING] The OS didn't defined a valid default locale.\n",
      "2022-11-09 13:30:19,814 [WARNING] The OS didn't defined a valid default locale.\n",
      "2022-11-09 13:30:19,814 [WARNING] The OS didn't defined a valid default locale.\n",
      "2022-11-09 13:30:19,816 [WARNING] The OS didn't defined a valid default locale.\n",
      "2022-11-09 13:30:19,817 [WARNING] The OS didn't defined a valid default locale.\n",
      "2022-11-09 13:30:19,820 [WARNING] The OS didn't defined a valid default locale.\n",
      "2022-11-09 13:30:19,825 [WARNING] The OS didn't defined a valid default locale.\n",
      "2022-11-09 13:30:19,826 [WARNING] The OS didn't defined a valid default locale.\n",
      "2022-11-09 13:30:19,827 [WARNING] The OS didn't defined a valid default locale.\n",
      "2022-11-09 13:30:19,908 [WARNING] The OS didn't defined a valid default locale.\n",
      "2022-11-09 13:30:19,908 [WARNING] The OS didn't defined a valid default locale.\n",
      "2022-11-09 13:30:19,909 [WARNING] The OS didn't defined a valid default locale.\n",
      "2022-11-09 13:30:19,910 [WARNING] The OS didn't defined a valid default locale.\n",
      "2022-11-09 13:30:19,910 [WARNING] The OS didn't defined a valid default locale.\n",
      "2022-11-09 13:30:19,911 [WARNING] The OS didn't defined a valid default locale.\n",
      "2022-11-09 13:30:19,911 [WARNING] The OS didn't defined a valid default locale.\n",
      "2022-11-09 13:30:19,912 [WARNING] The OS didn't defined a valid default locale.\n",
      "2022-11-09 13:30:19,912 [WARNING] The OS didn't defined a valid default locale.\n",
      "2022-11-09 13:30:19,913 [WARNING] The OS didn't defined a valid default locale.\n",
      "2022-11-09 13:30:19,913 [WARNING] The OS didn't defined a valid default locale.\n",
      "2022-11-09 13:30:19,914 [WARNING] The OS didn't defined a valid default locale.\n",
      "2022-11-09 13:30:19,914 [WARNING] The OS didn't defined a valid default locale.\n",
      "2022-11-09 13:30:19,915 [WARNING] The OS didn't defined a valid default locale.\n",
      "2022-11-09 13:30:19,915 [WARNING] The OS didn't defined a valid default locale.\n",
      "2022-11-09 13:30:19,916 [WARNING] The OS didn't defined a valid default locale.\n",
      "2022-11-09 13:30:19,916 [WARNING] The OS didn't defined a valid default locale.\n",
      "2022-11-09 13:30:19,917 [WARNING] The OS didn't defined a valid default locale.\n",
      "2022-11-09 13:30:19,917 [WARNING] The OS didn't defined a valid default locale.\n",
      "2022-11-09 13:30:19,917 [WARNING] The OS didn't defined a valid default locale.\n",
      "2022-11-09 13:30:19,918 [WARNING] The OS didn't defined a valid default locale.\n",
      "2022-11-09 13:30:19,918 [WARNING] The OS didn't defined a valid default locale.\n",
      "2022-11-09 13:30:19,919 [WARNING] The OS didn't defined a valid default locale.\n",
      "2022-11-09 13:30:19,920 [WARNING] The OS didn't defined a valid default locale.\n",
      "2022-11-09 13:30:19,921 [WARNING] The OS didn't defined a valid default locale.\n",
      "2022-11-09 13:30:19,922 [WARNING] The OS didn't defined a valid default locale.\n",
      "2022-11-09 13:30:19,922 [WARNING] The OS didn't defined a valid default locale.\n",
      "2022-11-09 13:30:19,923 [WARNING] The OS didn't defined a valid default locale.\n",
      "2022-11-09 13:30:19,923 [WARNING] The OS didn't defined a valid default locale.\n",
      "2022-11-09 13:30:19,924 [WARNING] The OS didn't defined a valid default locale.\n",
      "2022-11-09 13:30:19,924 [WARNING] The OS didn't defined a valid default locale.\n",
      "2022-11-09 13:30:19,925 [WARNING] The OS didn't defined a valid default locale.\n",
      "2022-11-09 13:30:19,925 [WARNING] The OS didn't defined a valid default locale.\n",
      "2022-11-09 13:30:19,926 [WARNING] The OS didn't defined a valid default locale.\n",
      "2022-11-09 13:30:19,926 [WARNING] The OS didn't defined a valid default locale.\n",
      "2022-11-09 13:30:19,927 [WARNING] The OS didn't defined a valid default locale.\n",
      "2022-11-09 13:30:19,928 [WARNING] The OS didn't defined a valid default locale.\n",
      "2022-11-09 13:30:19,929 [WARNING] The OS didn't defined a valid default locale.\n",
      "2022-11-09 13:30:19,932 [WARNING] The OS didn't defined a valid default locale.\n",
      "2022-11-09 13:30:19,935 [WARNING] The OS didn't defined a valid default locale.\n",
      "2022-11-09 13:30:19,937 [WARNING] The OS didn't defined a valid default locale.\n",
      "2022-11-09 13:30:19,939 [WARNING] The OS didn't defined a valid default locale.\n",
      "2022-11-09 13:30:19,940 [WARNING] The OS didn't defined a valid default locale.\n",
      "2022-11-09 13:30:19,942 [WARNING] The OS didn't defined a valid default locale.\n",
      "2022-11-09 13:30:19,949 [WARNING] The OS didn't defined a valid default locale.\n",
      "2022-11-09 13:30:19,954 [WARNING] The OS didn't defined a valid default locale.\n",
      "2022-11-09 13:30:19,958 [WARNING] The OS didn't defined a valid default locale.\n",
      "2022-11-09 13:30:19,961 [WARNING] The OS didn't defined a valid default locale.\n",
      "2022-11-09 13:30:19,963 [WARNING] The OS didn't defined a valid default locale.\n",
      "2022-11-09 13:30:19,964 [WARNING] The OS didn't defined a valid default locale.\n",
      "2022-11-09 13:30:19,964 [WARNING] The OS didn't defined a valid default locale.\n",
      "2022-11-09 13:30:19,966 [WARNING] The OS didn't defined a valid default locale.\n",
      "2022-11-09 13:30:19,968 [WARNING] The OS didn't defined a valid default locale.\n",
      "2022-11-09 13:30:19,969 [WARNING] The OS didn't defined a valid default locale.\n",
      "2022-11-09 13:30:19,970 [WARNING] The OS didn't defined a valid default locale.\n",
      "2022-11-09 13:30:19,971 [WARNING] The OS didn't defined a valid default locale.\n",
      "2022-11-09 13:30:19,972 [WARNING] The OS didn't defined a valid default locale.\n",
      "2022-11-09 13:30:19,973 [WARNING] The OS didn't defined a valid default locale.\n",
      "2022-11-09 13:30:19,974 [WARNING] The OS didn't defined a valid default locale.\n",
      "2022-11-09 13:30:19,974 [WARNING] The OS didn't defined a valid default locale.\n",
      "2022-11-09 13:30:19,975 [WARNING] The OS didn't defined a valid default locale.\n",
      "2022-11-09 13:30:19,976 [WARNING] The OS didn't defined a valid default locale.\n",
      "2022-11-09 13:30:19,978 [WARNING] The OS didn't defined a valid default locale.\n",
      "2022-11-09 13:30:19,978 [WARNING] The OS didn't defined a valid default locale.\n",
      "2022-11-09 13:30:19,978 [WARNING] The OS didn't defined a valid default locale.\n",
      "2022-11-09 13:30:19,979 [WARNING] The OS didn't defined a valid default locale.\n",
      "2022-11-09 13:30:19,981 [WARNING] The OS didn't defined a valid default locale.\n",
      "2022-11-09 13:30:19,983 [WARNING] The OS didn't defined a valid default locale.\n",
      "2022-11-09 13:30:19,985 [WARNING] The OS didn't defined a valid default locale.\n",
      "2022-11-09 13:30:19,985 [WARNING] The OS didn't defined a valid default locale.\n",
      "2022-11-09 13:30:19,986 [WARNING] The OS didn't defined a valid default locale.\n",
      "2022-11-09 13:30:19,988 [WARNING] The OS didn't defined a valid default locale.\n",
      "2022-11-09 13:30:19,989 [WARNING] The OS didn't defined a valid default locale.\n",
      "2022-11-09 13:30:19,990 [WARNING] The OS didn't defined a valid default locale.\n",
      "2022-11-09 13:30:19,991 [WARNING] The OS didn't defined a valid default locale.\n",
      "2022-11-09 13:30:19,993 [WARNING] The OS didn't defined a valid default locale.\n",
      "2022-11-09 13:30:19,994 [WARNING] The OS didn't defined a valid default locale.\n",
      "2022-11-09 13:30:19,996 [WARNING] The OS didn't defined a valid default locale.\n",
      "2022-11-09 13:30:19,997 [WARNING] The OS didn't defined a valid default locale.\n",
      "2022-11-09 13:30:19,998 [WARNING] The OS didn't defined a valid default locale.\n",
      "2022-11-09 13:30:20,003 [WARNING] The OS didn't defined a valid default locale.\n",
      "2022-11-09 13:30:20,008 [WARNING] The OS didn't defined a valid default locale.\n",
      "2022-11-09 13:30:20,013 [WARNING] The OS didn't defined a valid default locale.\n",
      "2022-11-09 13:30:20,013 [WARNING] The OS didn't defined a valid default locale.\n",
      "2022-11-09 13:30:20,014 [WARNING] The OS didn't defined a valid default locale.\n",
      "2022-11-09 13:30:20,016 [WARNING] The OS didn't defined a valid default locale.\n",
      "2022-11-09 13:30:20,016 [WARNING] The OS didn't defined a valid default locale.\n",
      "2022-11-09 13:30:20,017 [WARNING] The OS didn't defined a valid default locale.\n",
      "2022-11-09 13:30:20,062 [ERROR] A tier with a normalized text was not found.\n",
      "2022-11-09 13:30:20,067 [WARNING] The OS didn't defined a valid default locale.\n",
      "2022-11-09 13:30:20,070 [WARNING] The OS didn't defined a valid default locale.\n",
      "2022-11-09 13:30:20,072 [WARNING] The OS didn't defined a valid default locale.\n",
      "2022-11-09 13:30:20,077 [WARNING] The OS didn't defined a valid default locale.\n",
      "2022-11-09 13:30:20,097 [WARNING] The OS didn't defined a valid default locale.\n",
      "2022-11-09 13:30:20,102 [WARNING] The OS didn't defined a valid default locale.\n",
      "2022-11-09 13:30:20,105 [WARNING] The OS didn't defined a valid default locale.\n",
      "2022-11-09 13:30:20,107 [WARNING] The OS didn't defined a valid default locale.\n",
      "2022-11-09 13:30:20,108 [WARNING] The OS didn't defined a valid default locale.\n",
      "2022-11-09 13:30:20,108 [WARNING] The OS didn't defined a valid default locale.\n",
      "2022-11-09 13:30:20,109 [WARNING] The OS didn't defined a valid default locale.\n",
      "2022-11-09 13:30:20,110 [WARNING] The OS didn't defined a valid default locale.\n",
      "2022-11-09 13:30:20,110 [WARNING] The OS didn't defined a valid default locale.\n",
      "2022-11-09 13:30:20,111 [WARNING] The OS didn't defined a valid default locale.\n",
      "2022-11-09 13:30:20,112 [WARNING] The OS didn't defined a valid default locale.\n",
      "2022-11-09 13:30:20,113 [WARNING] The OS didn't defined a valid default locale.\n",
      "2022-11-09 13:30:20,118 [WARNING] The OS didn't defined a valid default locale.\n",
      "2022-11-09 13:30:20,122 [WARNING] The OS didn't defined a valid default locale.\n",
      "2022-11-09 13:30:20,125 [WARNING] The OS didn't defined a valid default locale.\n",
      "2022-11-09 13:30:20,127 [WARNING] The OS didn't defined a valid default locale.\n",
      "2022-11-09 13:30:20,128 [WARNING] The OS didn't defined a valid default locale.\n",
      "2022-11-09 13:30:20,128 [WARNING] The OS didn't defined a valid default locale.\n",
      "2022-11-09 13:30:20,129 [WARNING] The OS didn't defined a valid default locale.\n",
      "2022-11-09 13:30:20,130 [WARNING] The OS didn't defined a valid default locale.\n",
      "2022-11-09 13:30:20,130 [WARNING] The OS didn't defined a valid default locale.\n",
      "2022-11-09 13:30:20,133 [WARNING] The OS didn't defined a valid default locale.\n",
      "2022-11-09 13:30:20,134 [WARNING] The OS didn't defined a valid default locale.\n",
      "2022-11-09 13:30:20,135 [WARNING] The OS didn't defined a valid default locale.\n",
      "2022-11-09 13:30:20,136 [WARNING] The OS didn't defined a valid default locale.\n",
      "2022-11-09 13:30:20,136 [WARNING] The OS didn't defined a valid default locale.\n",
      "2022-11-09 13:30:20,138 [WARNING] The OS didn't defined a valid default locale.\n",
      "2022-11-09 13:30:20,139 [WARNING] The OS didn't defined a valid default locale.\n",
      "2022-11-09 13:30:20,139 [WARNING] The OS didn't defined a valid default locale.\n",
      "2022-11-09 13:30:20,140 [WARNING] The OS didn't defined a valid default locale.\n",
      "2022-11-09 13:30:20,143 [WARNING] The OS didn't defined a valid default locale.\n",
      "2022-11-09 13:30:20,146 [WARNING] The OS didn't defined a valid default locale.\n",
      "2022-11-09 13:30:20,147 [WARNING] The OS didn't defined a valid default locale.\n",
      "2022-11-09 13:30:20,148 [WARNING] The OS didn't defined a valid default locale.\n",
      "2022-11-09 13:30:20,148 [WARNING] The OS didn't defined a valid default locale.\n",
      "2022-11-09 13:30:20,150 [WARNING] The OS didn't defined a valid default locale.\n",
      "2022-11-09 13:30:20,151 [WARNING] The OS didn't defined a valid default locale.\n",
      "2022-11-09 13:30:20,152 [WARNING] The OS didn't defined a valid default locale.\n",
      "2022-11-09 13:30:20,153 [WARNING] The OS didn't defined a valid default locale.\n",
      "2022-11-09 13:30:20,154 [WARNING] The OS didn't defined a valid default locale.\n",
      "2022-11-09 13:30:20,155 [WARNING] The OS didn't defined a valid default locale.\n",
      "2022-11-09 13:30:20,155 [WARNING] The OS didn't defined a valid default locale.\n",
      "2022-11-09 13:30:20,156 [WARNING] The OS didn't defined a valid default locale.\n",
      "2022-11-09 13:30:20,157 [WARNING] The OS didn't defined a valid default locale.\n",
      "2022-11-09 13:30:20,158 [WARNING] The OS didn't defined a valid default locale.\n",
      "2022-11-09 13:30:20,159 [WARNING] The OS didn't defined a valid default locale.\n",
      "2022-11-09 13:30:20,160 [WARNING] The OS didn't defined a valid default locale.\n",
      "2022-11-09 13:30:20,160 [WARNING] The OS didn't defined a valid default locale.\n",
      "2022-11-09 13:30:20,161 [WARNING] The OS didn't defined a valid default locale.\n",
      "2022-11-09 13:30:20,161 [WARNING] The OS didn't defined a valid default locale.\n",
      "2022-11-09 13:30:20,162 [WARNING] The OS didn't defined a valid default locale.\n",
      "2022-11-09 13:30:20,163 [WARNING] The OS didn't defined a valid default locale.\n",
      "2022-11-09 13:30:20,163 [WARNING] The OS didn't defined a valid default locale.\n",
      "2022-11-09 13:30:20,164 [WARNING] The OS didn't defined a valid default locale.\n",
      "2022-11-09 13:30:20,165 [WARNING] The OS didn't defined a valid default locale.\n",
      "2022-11-09 13:30:20,166 [WARNING] The OS didn't defined a valid default locale.\n",
      "2022-11-09 13:30:20,166 [WARNING] The OS didn't defined a valid default locale.\n",
      "2022-11-09 13:30:20,168 [WARNING] The OS didn't defined a valid default locale.\n",
      "2022-11-09 13:30:20,169 [WARNING] The OS didn't defined a valid default locale.\n",
      "2022-11-09 13:30:20,170 [WARNING] The OS didn't defined a valid default locale.\n",
      "2022-11-09 13:30:20,170 [WARNING] The OS didn't defined a valid default locale.\n",
      "2022-11-09 13:30:20,171 [WARNING] The OS didn't defined a valid default locale.\n",
      "2022-11-09 13:30:20,172 [WARNING] The OS didn't defined a valid default locale.\n",
      "2022-11-09 13:30:20,173 [WARNING] The OS didn't defined a valid default locale.\n",
      "2022-11-09 13:30:20,174 [WARNING] The OS didn't defined a valid default locale.\n",
      "2022-11-09 13:30:20,176 [WARNING] The OS didn't defined a valid default locale.\n",
      "2022-11-09 13:30:20,176 [WARNING] The OS didn't defined a valid default locale.\n",
      "2022-11-09 13:30:20,177 [WARNING] The OS didn't defined a valid default locale.\n",
      "2022-11-09 13:30:20,178 [WARNING] The OS didn't defined a valid default locale.\n",
      "2022-11-09 13:30:20,180 [WARNING] The OS didn't defined a valid default locale.\n",
      "2022-11-09 13:30:20,181 [WARNING] The OS didn't defined a valid default locale.\n",
      "2022-11-09 13:30:20,182 [WARNING] The OS didn't defined a valid default locale.\n",
      "2022-11-09 13:30:20,184 [WARNING] The OS didn't defined a valid default locale.\n",
      "2022-11-09 13:30:20,186 [WARNING] The OS didn't defined a valid default locale.\n",
      "2022-11-09 13:30:20,187 [WARNING] The OS didn't defined a valid default locale.\n",
      "2022-11-09 13:30:20,188 [WARNING] The OS didn't defined a valid default locale.\n",
      "2022-11-09 13:30:20,189 [WARNING] The OS didn't defined a valid default locale.\n",
      "2022-11-09 13:30:20,190 [WARNING] The OS didn't defined a valid default locale.\n",
      "2022-11-09 13:30:20,192 [WARNING] The OS didn't defined a valid default locale.\n",
      "2022-11-09 13:30:20,194 [WARNING] The OS didn't defined a valid default locale.\n",
      "2022-11-09 13:30:20,199 [WARNING] The OS didn't defined a valid default locale.\n",
      "2022-11-09 13:30:20,201 [WARNING] The OS didn't defined a valid default locale.\n",
      "2022-11-09 13:30:20,202 [WARNING] The OS didn't defined a valid default locale.\n",
      "2022-11-09 13:30:20,203 [WARNING] The OS didn't defined a valid default locale.\n",
      "2022-11-09 13:30:20,206 [WARNING] The OS didn't defined a valid default locale.\n",
      "2022-11-09 13:30:20,209 [WARNING] The OS didn't defined a valid default locale.\n",
      "2022-11-09 13:30:20,211 [WARNING] The OS didn't defined a valid default locale.\n",
      "2022-11-09 13:30:20,212 [WARNING] The OS didn't defined a valid default locale.\n",
      "2022-11-09 13:30:20,214 [WARNING] The OS didn't defined a valid default locale.\n",
      "2022-11-09 13:30:20,215 [WARNING] The OS didn't defined a valid default locale.\n",
      "2022-11-09 13:30:20,216 [WARNING] The OS didn't defined a valid default locale.\n",
      "2022-11-09 13:30:20,218 [WARNING] The OS didn't defined a valid default locale.\n",
      "2022-11-09 13:30:20,220 [WARNING] The OS didn't defined a valid default locale.\n",
      "2022-11-09 13:30:20,222 [WARNING] The OS didn't defined a valid default locale.\n",
      "2022-11-09 13:30:20,224 [WARNING] The OS didn't defined a valid default locale.\n",
      "2022-11-09 13:30:20,225 [WARNING] The OS didn't defined a valid default locale.\n",
      "2022-11-09 13:30:20,226 [WARNING] The OS didn't defined a valid default locale.\n",
      "2022-11-09 13:30:20,227 [WARNING] The OS didn't defined a valid default locale.\n",
      "2022-11-09 13:30:20,228 [WARNING] The OS didn't defined a valid default locale.\n",
      "2022-11-09 13:30:20,229 [WARNING] The OS didn't defined a valid default locale.\n",
      "2022-11-09 13:30:20,230 [WARNING] The OS didn't defined a valid default locale.\n",
      "2022-11-09 13:30:20,232 [WARNING] The OS didn't defined a valid default locale.\n",
      "2022-11-09 13:30:20,233 [WARNING] The OS didn't defined a valid default locale.\n",
      "2022-11-09 13:30:20,235 [WARNING] The OS didn't defined a valid default locale.\n",
      "2022-11-09 13:30:20,236 [WARNING] The OS didn't defined a valid default locale.\n",
      "2022-11-09 13:30:20,240 [WARNING] No file is matching the root /Users/eliot/Documents/projects/bkt_pilot with one of: ['-phon.xra', '-phon.TextGrid', '-phon.anvil', '-phon.eaf', '-phon.ant', '-phon.antx', '-phon.trs', '-phon.mrk', '-phon.lab', '-phon.srt', '-phon.sub', '-phon.ctm', '-phon.stm', '-phon.aup', '-phon.tdf', '-phon.csv', '-phon.txt']\n",
      "2022-11-09 13:30:20,241 [WARNING] The OS didn't defined a valid default locale.\n",
      "2022-11-09 13:30:20,242 [WARNING] The OS didn't defined a valid default locale.\n",
      "2022-11-09 13:30:20,244 [WARNING] The OS didn't defined a valid default locale.\n",
      "2022-11-09 13:30:20,244 [WARNING] The OS didn't defined a valid default locale.\n",
      "2022-11-09 13:30:20,245 [WARNING] The OS didn't defined a valid default locale.\n",
      "2022-11-09 13:30:20,246 [WARNING] The OS didn't defined a valid default locale.\n",
      "2022-11-09 13:30:20,249 [WARNING] The OS didn't defined a valid default locale.\n",
      "2022-11-09 13:30:20,252 [WARNING] The OS didn't defined a valid default locale.\n",
      "2022-11-09 13:30:20,252 [WARNING] The OS didn't defined a valid default locale.\n",
      "2022-11-09 13:30:20,253 [WARNING] The OS didn't defined a valid default locale.\n",
      "2022-11-09 13:30:20,256 [WARNING] The OS didn't defined a valid default locale.\n",
      "2022-11-09 13:30:20,257 [WARNING] The OS didn't defined a valid default locale.\n",
      "2022-11-09 13:30:20,259 [WARNING] The OS didn't defined a valid default locale.\n",
      "2022-11-09 13:30:20,260 [WARNING] The OS didn't defined a valid default locale.\n",
      "2022-11-09 13:30:20,261 [WARNING] The OS didn't defined a valid default locale.\n",
      "2022-11-09 13:30:20,262 [WARNING] The OS didn't defined a valid default locale.\n",
      "2022-11-09 13:30:20,262 [WARNING] The OS didn't defined a valid default locale.\n",
      "2022-11-09 13:30:20,264 [WARNING] The OS didn't defined a valid default locale.\n",
      "2022-11-09 13:30:20,264 [WARNING] The OS didn't defined a valid default locale.\n",
      "2022-11-09 13:30:20,264 [WARNING] The OS didn't defined a valid default locale.\n",
      "2022-11-09 13:30:20,265 [WARNING] The OS didn't defined a valid default locale.\n",
      "2022-11-09 13:30:20,266 [WARNING] The OS didn't defined a valid default locale.\n",
      "2022-11-09 13:30:20,266 [WARNING] The OS didn't defined a valid default locale.\n",
      "2022-11-09 13:30:20,267 [WARNING] The OS didn't defined a valid default locale.\n",
      "2022-11-09 13:30:20,268 [WARNING] The OS didn't defined a valid default locale.\n",
      "2022-11-09 13:30:20,269 [WARNING] The OS didn't defined a valid default locale.\n",
      "2022-11-09 13:30:20,269 [WARNING] The OS didn't defined a valid default locale.\n",
      "2022-11-09 13:30:20,270 [WARNING] The OS didn't defined a valid default locale.\n",
      "2022-11-09 13:30:20,271 [WARNING] The OS didn't defined a valid default locale.\n",
      "2022-11-09 13:30:20,272 [WARNING] The OS didn't defined a valid default locale.\n",
      "2022-11-09 13:30:20,273 [WARNING] The OS didn't defined a valid default locale.\n",
      "2022-11-09 13:30:20,273 [WARNING] The OS didn't defined a valid default locale.\n",
      "2022-11-09 13:30:20,274 [WARNING] The OS didn't defined a valid default locale.\n",
      "2022-11-09 13:30:20,274 [WARNING] The OS didn't defined a valid default locale.\n",
      "2022-11-09 13:30:20,277 [WARNING] The OS didn't defined a valid default locale.\n",
      "2022-11-09 13:30:20,278 [WARNING] The OS didn't defined a valid default locale.\n",
      "2022-11-09 13:30:20,279 [WARNING] The OS didn't defined a valid default locale.\n",
      "2022-11-09 13:30:20,280 [WARNING] The OS didn't defined a valid default locale.\n",
      "2022-11-09 13:30:20,282 [WARNING] The OS didn't defined a valid default locale.\n",
      "2022-11-09 13:30:20,283 [WARNING] The OS didn't defined a valid default locale.\n",
      "2022-11-09 13:30:20,284 [WARNING] The OS didn't defined a valid default locale.\n",
      "2022-11-09 13:30:20,285 [WARNING] The OS didn't defined a valid default locale.\n",
      "2022-11-09 13:30:20,286 [WARNING] The OS didn't defined a valid default locale.\n",
      "2022-11-09 13:30:20,287 [WARNING] The OS didn't defined a valid default locale.\n",
      "2022-11-09 13:30:20,288 [WARNING] The OS didn't defined a valid default locale.\n",
      "2022-11-09 13:30:20,288 [WARNING] The OS didn't defined a valid default locale.\n",
      "2022-11-09 13:30:20,289 [WARNING] The OS didn't defined a valid default locale.\n",
      "2022-11-09 13:30:20,289 [WARNING] The OS didn't defined a valid default locale.\n",
      "2022-11-09 13:30:20,290 [WARNING] The OS didn't defined a valid default locale.\n",
      "2022-11-09 13:30:20,291 [WARNING] The OS didn't defined a valid default locale.\n",
      "2022-11-09 13:30:20,291 [WARNING] The OS didn't defined a valid default locale.\n",
      "2022-11-09 13:30:20,292 [WARNING] The OS didn't defined a valid default locale.\n",
      "2022-11-09 13:30:20,293 [WARNING] The OS didn't defined a valid default locale.\n",
      "2022-11-09 13:30:20,294 [WARNING] The OS didn't defined a valid default locale.\n",
      "2022-11-09 13:30:20,296 [WARNING] The OS didn't defined a valid default locale.\n",
      "2022-11-09 13:30:20,297 [WARNING] The OS didn't defined a valid default locale.\n",
      "2022-11-09 13:30:20,298 [WARNING] The OS didn't defined a valid default locale.\n",
      "2022-11-09 13:30:20,299 [WARNING] The OS didn't defined a valid default locale.\n",
      "2022-11-09 13:30:20,300 [WARNING] The OS didn't defined a valid default locale.\n",
      "2022-11-09 13:30:20,301 [WARNING] The OS didn't defined a valid default locale.\n",
      "2022-11-09 13:30:20,301 [WARNING] The OS didn't defined a valid default locale.\n",
      "2022-11-09 13:30:20,302 [WARNING] The OS didn't defined a valid default locale.\n",
      "2022-11-09 13:30:20,302 [WARNING] The OS didn't defined a valid default locale.\n",
      "2022-11-09 13:30:20,303 [WARNING] The OS didn't defined a valid default locale.\n",
      "2022-11-09 13:30:20,303 [WARNING] The OS didn't defined a valid default locale.\n",
      "2022-11-09 13:30:20,304 [WARNING] The OS didn't defined a valid default locale.\n",
      "2022-11-09 13:30:20,304 [WARNING] The OS didn't defined a valid default locale.\n",
      "2022-11-09 13:30:20,305 [WARNING] The OS didn't defined a valid default locale.\n",
      "2022-11-09 13:30:20,305 [WARNING] The OS didn't defined a valid default locale.\n",
      "2022-11-09 13:30:20,306 [WARNING] The OS didn't defined a valid default locale.\n",
      "2022-11-09 13:30:20,307 [WARNING] The OS didn't defined a valid default locale.\n",
      "2022-11-09 13:30:20,307 [WARNING] The OS didn't defined a valid default locale.\n",
      "2022-11-09 13:30:20,308 [WARNING] The OS didn't defined a valid default locale.\n",
      "2022-11-09 13:30:20,308 [WARNING] The OS didn't defined a valid default locale.\n",
      "2022-11-09 13:30:20,308 [WARNING] The OS didn't defined a valid default locale.\n",
      "2022-11-09 13:30:20,309 [WARNING] The OS didn't defined a valid default locale.\n",
      "2022-11-09 13:30:20,309 [WARNING] The OS didn't defined a valid default locale.\n",
      "2022-11-09 13:30:20,310 [WARNING] The OS didn't defined a valid default locale.\n",
      "2022-11-09 13:30:20,311 [WARNING] The OS didn't defined a valid default locale.\n",
      "2022-11-09 13:30:20,311 [WARNING] The OS didn't defined a valid default locale.\n",
      "2022-11-09 13:30:20,312 [WARNING] The OS didn't defined a valid default locale.\n",
      "2022-11-09 13:30:20,312 [WARNING] The OS didn't defined a valid default locale.\n",
      "2022-11-09 13:30:20,313 [WARNING] The OS didn't defined a valid default locale.\n",
      "2022-11-09 13:30:20,313 [WARNING] The OS didn't defined a valid default locale.\n",
      "2022-11-09 13:30:20,314 [WARNING] The OS didn't defined a valid default locale.\n",
      "2022-11-09 13:30:20,314 [WARNING] The OS didn't defined a valid default locale.\n",
      "2022-11-09 13:30:20,316 [WARNING] The OS didn't defined a valid default locale.\n",
      "2022-11-09 13:30:20,316 [WARNING] The OS didn't defined a valid default locale.\n",
      "2022-11-09 13:30:20,317 [WARNING] The OS didn't defined a valid default locale.\n",
      "2022-11-09 13:30:20,318 [WARNING] The OS didn't defined a valid default locale.\n",
      "2022-11-09 13:30:20,359 [WARNING] The OS didn't defined a valid default locale.\n",
      "2022-11-09 13:30:20,360 [ERROR] A tier with a phonetization is required but was not found\n",
      "2022-11-09 13:30:20,360 [WARNING] The OS didn't defined a valid default locale.\n",
      "2022-11-09 13:30:20,362 [WARNING] The OS didn't defined a valid default locale.\n",
      "2022-11-09 13:30:20,362 [WARNING] The OS didn't defined a valid default locale.\n",
      "2022-11-09 13:30:20,363 [WARNING] The OS didn't defined a valid default locale.\n",
      "2022-11-09 13:30:20,364 [WARNING] The OS didn't defined a valid default locale.\n",
      "2022-11-09 13:30:20,366 [WARNING] The OS didn't defined a valid default locale.\n",
      "2022-11-09 13:30:20,368 [WARNING] The OS didn't defined a valid default locale.\n",
      "2022-11-09 13:30:20,369 [WARNING] The OS didn't defined a valid default locale.\n",
      "2022-11-09 13:30:20,371 [WARNING] The OS didn't defined a valid default locale.\n",
      "2022-11-09 13:30:20,376 [WARNING] The OS didn't defined a valid default locale.\n",
      "2022-11-09 13:30:20,381 [WARNING] The OS didn't defined a valid default locale.\n",
      "2022-11-09 13:30:20,384 [WARNING] The OS didn't defined a valid default locale.\n",
      "2022-11-09 13:30:20,385 [WARNING] The OS didn't defined a valid default locale.\n",
      "2022-11-09 13:30:20,389 [WARNING] The OS didn't defined a valid default locale.\n",
      "2022-11-09 13:30:20,393 [WARNING] The OS didn't defined a valid default locale.\n",
      "2022-11-09 13:30:20,396 [WARNING] The OS didn't defined a valid default locale.\n",
      "2022-11-09 13:30:20,397 [WARNING] The OS didn't defined a valid default locale.\n",
      "2022-11-09 13:30:20,397 [WARNING] The OS didn't defined a valid default locale.\n",
      "2022-11-09 13:30:20,398 [WARNING] The OS didn't defined a valid default locale.\n",
      "2022-11-09 13:30:20,399 [WARNING] The OS didn't defined a valid default locale.\n",
      "2022-11-09 13:30:20,399 [WARNING] The OS didn't defined a valid default locale.\n",
      "2022-11-09 13:30:20,399 [WARNING] The OS didn't defined a valid default locale.\n",
      "2022-11-09 13:30:20,400 [WARNING] The OS didn't defined a valid default locale.\n",
      "2022-11-09 13:30:20,400 [WARNING] The OS didn't defined a valid default locale.\n",
      "2022-11-09 13:30:20,401 [WARNING] The OS didn't defined a valid default locale.\n",
      "2022-11-09 13:30:20,403 [WARNING] The OS didn't defined a valid default locale.\n",
      "2022-11-09 13:30:20,405 [WARNING] The OS didn't defined a valid default locale.\n",
      "2022-11-09 13:30:20,405 [WARNING] The OS didn't defined a valid default locale.\n",
      "2022-11-09 13:30:20,406 [WARNING] The OS didn't defined a valid default locale.\n",
      "2022-11-09 13:30:20,406 [WARNING] The OS didn't defined a valid default locale.\n",
      "2022-11-09 13:30:20,407 [WARNING] The OS didn't defined a valid default locale.\n",
      "2022-11-09 13:30:20,407 [WARNING] The OS didn't defined a valid default locale.\n",
      "2022-11-09 13:30:20,408 [WARNING] The OS didn't defined a valid default locale.\n",
      "2022-11-09 13:30:20,409 [WARNING] The OS didn't defined a valid default locale.\n",
      "2022-11-09 13:30:20,411 [WARNING] The OS didn't defined a valid default locale.\n",
      "2022-11-09 13:30:20,414 [WARNING] The OS didn't defined a valid default locale.\n",
      "2022-11-09 13:30:20,415 [WARNING] The OS didn't defined a valid default locale.\n",
      "2022-11-09 13:30:20,418 [WARNING] The OS didn't defined a valid default locale.\n",
      "2022-11-09 13:30:20,419 [WARNING] The OS didn't defined a valid default locale.\n",
      "2022-11-09 13:30:20,422 [WARNING] The OS didn't defined a valid default locale.\n",
      "2022-11-09 13:30:20,423 [WARNING] The OS didn't defined a valid default locale.\n",
      "2022-11-09 13:30:20,424 [WARNING] The OS didn't defined a valid default locale.\n",
      "2022-11-09 13:30:20,424 [WARNING] The OS didn't defined a valid default locale.\n",
      "2022-11-09 13:30:20,425 [WARNING] The OS didn't defined a valid default locale.\n",
      "2022-11-09 13:30:20,425 [WARNING] The OS didn't defined a valid default locale.\n",
      "2022-11-09 13:30:20,426 [WARNING] The OS didn't defined a valid default locale.\n",
      "2022-11-09 13:30:20,427 [WARNING] The OS didn't defined a valid default locale.\n",
      "2022-11-09 13:30:20,431 [WARNING] The OS didn't defined a valid default locale.\n",
      "2022-11-09 13:30:20,432 [WARNING] The OS didn't defined a valid default locale.\n",
      "2022-11-09 13:30:20,434 [WARNING] The OS didn't defined a valid default locale.\n",
      "2022-11-09 13:30:20,435 [WARNING] The OS didn't defined a valid default locale.\n",
      "2022-11-09 13:30:20,435 [WARNING] The OS didn't defined a valid default locale.\n",
      "2022-11-09 13:30:20,436 [WARNING] The OS didn't defined a valid default locale.\n",
      "2022-11-09 13:30:20,436 [WARNING] The OS didn't defined a valid default locale.\n",
      "2022-11-09 13:30:20,437 [WARNING] The OS didn't defined a valid default locale.\n",
      "2022-11-09 13:30:20,438 [WARNING] The OS didn't defined a valid default locale.\n",
      "2022-11-09 13:30:20,438 [WARNING] The OS didn't defined a valid default locale.\n",
      "2022-11-09 13:30:20,439 [WARNING] The OS didn't defined a valid default locale.\n",
      "2022-11-09 13:30:20,440 [WARNING] The OS didn't defined a valid default locale.\n",
      "2022-11-09 13:30:20,440 [WARNING] The OS didn't defined a valid default locale.\n",
      "2022-11-09 13:30:20,441 [WARNING] The OS didn't defined a valid default locale.\n",
      "2022-11-09 13:30:20,442 [WARNING] The OS didn't defined a valid default locale.\n",
      "2022-11-09 13:30:20,447 [WARNING] The OS didn't defined a valid default locale.\n",
      "2022-11-09 13:30:20,449 [WARNING] The OS didn't defined a valid default locale.\n",
      "2022-11-09 13:30:20,450 [WARNING] The OS didn't defined a valid default locale.\n",
      "2022-11-09 13:30:20,451 [WARNING] The OS didn't defined a valid default locale.\n",
      "2022-11-09 13:30:20,452 [WARNING] The OS didn't defined a valid default locale.\n",
      "2022-11-09 13:30:20,454 [WARNING] No file is matching the root /Users/eliot/Documents/projects/bkt_pilot with one of: ['-palign.xra', '-palign.TextGrid', '-palign.anvil', '-palign.eaf', '-palign.ant', '-palign.antx', '-palign.trs', '-palign.mrk', '-palign.lab', '-palign.srt', '-palign.sub', '-palign.ctm', '-palign.stm', '-palign.aup', '-palign.tdf', '-palign.csv', '-palign.txt']\n",
      "2022-11-09 13:30:20,455 [WARNING] The OS didn't defined a valid default locale.\n"
     ]
    }
   ],
   "source": [
    "#def apply_sppasprocess(in_files, wav_files, log_path:str, actions:list=[\"phonetize\", \"alignment\", \"syllabify\"]):\n",
    "\"\"\"Can also be used with 'searchipus.json'\n",
    "\"\"\"\n",
    "actions=[\"phonetize\", \"alignment\", \"syllabify\"]\n",
    "parameters = sppasParam([f\"{x}.json\" for x in actions])\n",
    "for x in actions:\n",
    "    ann_step_idx = parameters.activate_annotation(x)\n",
    "    ann_options = parameters.get_options(ann_step_idx)\n",
    "\n",
    "#for file in [filepath, \"bkt-pilot-221103.TextGrid\"]:\n",
    "parameters.add_to_workspace(\"bkt_pilot.wav\")  \n",
    "parameters.add_to_workspace(\"bkt_pilot-token.TextGrid\")\n",
    "\n",
    "# Fix the output file extension and others\n",
    "parameters.set_lang(\"fra\")\n",
    "parameters.set_output_extension('.TextGrid', \"ANNOT\")\n",
    "parameters.set_report_filename('tmp')\n",
    "\n",
    "# Execute pipeline\n",
    "process = sppasAnnotationsManager()\n",
    "process.annotate(parameters)"
   ]
  },
  {
   "cell_type": "markdown",
   "metadata": {},
   "source": [
    "### Using BAS\n",
    "From the [BAS Documentation Page](https://clarin.phonetik.uni-muenchen.de/BASWebServices/services/help), several pipelines are available (with -- those that interest us the most):\n",
    "```\n",
    "-- runPipelineWithASR       runCOALA                runGetVersion\n",
    "runCOALAGetTemplates        -- runASR               -- runPipeline\n",
    "runTTS                      runSubtitle             runTextEnhance\n",
    "runDoReCo                   runSpeakDiar            runVoiceActivityDetection\n",
    "runChunkPreparation         runMAUSGetInventar      runASRGetQuota\n",
    "runMINNI                    runMAUS                 getLoadIndicatorXML\n",
    "runTextAlign                runMAUSBasic            -- runPho2Syl\n",
    "getLoadIndicator            runAnnotConv            runFormantAnalysis\n",
    "runChunker                  runMAUSGetHelp          runChannelSeparator\n",
    "runTTSFile                  runAudioEnhance         runEMUMagic\n",
    "runG2P                      runGetVersion           runAnonymizer\n",
    "```\n",
    "Calling those pipelines can be done using CURL:\n",
    "```bash\n",
    "curl -v -X POST -H 'content-type: multipart/form-data' -F com=yes -F INSKANTEXTGRID=true -F USETEXTENHANCE=true -F TARGETRATE=100000 -F TEXT=@/Users/neako/Documents/Cours-MasCo/PhD/multimodalgrounding/data/EPSN/extract-transcribe/080101-000-freeConv_mono_1.TextGrid -F NOISE=0 -F PIPE=G2P_CHUNKER_MAUS_PHO2SYL -F aligner=hirschberg -F NOISEPROFILE=0 -F speakNumber=0 -F ASIGNAL=brownNoise -F NORM=true -F mauschunking=false -F INSORTTEXTGRID=true -F WEIGHT=default -F minanchorlength=3 -F LANGUAGE=eng-US -F USEAUDIOENHANCE=true -F maxlength=0 -F KEEP=false -F preference=-2.97 -F nrm=no -F LOWF=0 -F WHITESPACE_REPLACEMENT=_ -F marker=punct -F USEREMAIL=maesneako@gmail.com -F boost=true -F MINPAUSLEN=5 -F forcechunking=false -F NOINITIALFINALSILENCE=false -F minVoicedLength=200 -F InputTierName=google-annot -F OUTFORMAT=TextGrid -F syl=no -F ENDWORD=999999 -F minSilenceLength=200 -F wsync=yes -F UTTERANCELEVEL=false -F featset=standard -F INSPROB=0.0 -F OUTSYMBOL=x-sampa -F minchunkduration=15 -F SIGNAL=@/Users/neako/Documents/Cours-MasCo/PhD/multimodalgrounding/data/EPSN/extract-transcribe/080101-000-freeConv_mono_1.wav -F stress=no -F MODUS=default -F RELAXMINDUR=false -F RELAXMINDURTHREE=false -F STARTWORD=0 -F INSYMBOL=sampa -F PRESEG=false -F AWORD=ANONYMIZED -F USETRN=false -F MAUSSHIFT=default -F HIGHF=0 -F silenceonly=0 -F boost_minanchorlength=4 -F ADDSEGPROB=false 'https://clarin.phonetik.uni-muenchen.de/BASWebServices/services/runPipeline'\n",
    "```"
   ]
  },
  {
   "cell_type": "code",
   "execution_count": null,
   "metadata": {},
   "outputs": [],
   "source": []
  }
 ],
 "metadata": {
  "kernelspec": {
   "display_name": "Python 3.9.13 ('base')",
   "language": "python",
   "name": "python3"
  },
  "language_info": {
   "codemirror_mode": {
    "name": "ipython",
    "version": 3
   },
   "file_extension": ".py",
   "mimetype": "text/x-python",
   "name": "python",
   "nbconvert_exporter": "python",
   "pygments_lexer": "ipython3",
   "version": "3.9.13"
  },
  "orig_nbformat": 4,
  "vscode": {
   "interpreter": {
    "hash": "54c6fdbc2999351b36885b0dc16fec3b775b1144f9b86f14b4f688ce9c011195"
   }
  }
 },
 "nbformat": 4,
 "nbformat_minor": 2
}
