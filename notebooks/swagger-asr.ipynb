{
 "cells": [
  {
   "cell_type": "markdown",
   "metadata": {},
   "source": [
    "# Transcription Tools \n",
    "\n",
    "Link to the [Documentation / Test Plateform](http://biggerboi.linto.ai:8000/docs/#/)\n",
    "\n",
    "3 different calls:\n",
    "1. `POST /transcribe` (Text To Speech)\n",
    "```\n",
    "curl -X 'POST' \\\n",
    "  'http://biggerboi.linto.ai:8000/transcribe' \\\n",
    "  -H 'accept: application/json' \\\n",
    "  -H 'Content-Type: multipart/form-data' \\\n",
    "  -F 'file=@A_Mic1.mp3;type=audio/mpeg' \\\n",
    "  -F 'transcriptionConfig={\n",
    "  \"enablePunctuation\": false,\n",
    "  \"diarizationConfig\": {\n",
    "    \"enableDiarization\": false,\n",
    "    \"numberOfSpeaker\": 1,\n",
    "    \"maxNumberOfSpeaker\": 2\n",
    "  }\n",
    "}' \\\n",
    "  -F 'force_sync=false'\n",
    "```\n",
    "returns `{\"jobid\": \"5623661d-fe46-4881-aef4-aeaeef46ae06\"}` (Response Body if code = 201) or directly the result JSON (code = 200)\n",
    "\n",
    "\n",
    "2. `GET /job/{jobid}`\n",
    "```\n",
    "curl -X 'GET' \\\n",
    "  'http://biggerboi.linto.ai:8000/job/5623661d-fe46-4881-aef4-aeaeef46ae06' \\\n",
    "  -H 'accept: application/json'\n",
    "```\n",
    "returns 201 if finished (contains `result_id`), 202 if still in process\n",
    "\n",
    "3. `GET /results/{result_id}`\n",
    "```\n",
    "curl -X 'GET' \\\n",
    "  'http://biggerboi.linto.ai:8000/results/883ff41f-e5fb-439b-8109-1ca49091e75d?convert_numbers=false&return_raw=false' \\\n",
    "  -H 'accept: application/json'\n",
    "```\n",
    "returns 200 and JSON if finished"
   ]
  },
  {
   "cell_type": "code",
   "execution_count": 100,
   "metadata": {},
   "outputs": [],
   "source": [
    "import requests\n",
    "import json\n",
    "import time\n",
    "import pandas as pd\n",
    "from tqdm import tqdm\n",
    "import matplotlib.pyplot as plt"
   ]
  },
  {
   "cell_type": "markdown",
   "metadata": {},
   "source": [
    "## Calling API"
   ]
  },
  {
   "cell_type": "code",
   "execution_count": 21,
   "metadata": {},
   "outputs": [],
   "source": [
    "SOURCE_URL = \"http://biggerboi.linto.ai:8000\"\n",
    "HEADER = {'accept': 'application/json'}\n",
    "\n",
    "def post_file_transcribe(file_path:str, transcription_config:dict):\n",
    "    # Config\n",
    "    files = {\n",
    "        \"file\": open(file_path, \"rb\")\n",
    "    }\n",
    "\n",
    "    data = {\n",
    "    \"transcriptionConfig\": json.dumps(transcription_config)\n",
    "    }\n",
    "    # Send\n",
    "    response = requests.post(f\"{SOURCE_URL}/transcribe\", files=files, data=data, headers = HEADER)\n",
    "    # Response\n",
    "    if response.status_code == 201:\n",
    "        jobid = response.json()['jobid']\n",
    "        res = {'state':'process'}\n",
    "        while res['state'] != 'done':\n",
    "            time.sleep(5)\n",
    "            response = requests.get(f\"{SOURCE_URL}/job/{jobid}\", headers = HEADER)\n",
    "            res = response.json()\n",
    "        result_id = res['result_id']\n",
    "        response = requests.get(f\"{SOURCE_URL}/results/{result_id}\", headers = HEADER)\n",
    "    if response.status_code == 200:\n",
    "        transc = response.json()\n",
    "        # transc.keys()\n",
    "        # dict_keys(['transcription_result', 'raw_transcription', 'confidence', 'segments'])\n",
    "        # transc['segments'].keys()\n",
    "        # dict_keys(['spk_id', 'start', 'end', 'duration', 'raw_segment', 'segment', 'words'])\n",
    "        #print(pd.DataFrame(transc['segments'][0]['words']))\n",
    "        return transc\n",
    "    else:\n",
    "        return response.text"
   ]
  },
  {
   "cell_type": "markdown",
   "metadata": {},
   "source": [
    "#### Tests"
   ]
  },
  {
   "cell_type": "code",
   "execution_count": 36,
   "metadata": {},
   "outputs": [],
   "source": [
    "# Config\n",
    "files = {\n",
    "    \"file\": open(filename, \"rb\")\n",
    "}\n",
    "\n",
    "data = {\n",
    "\"transcriptionConfig\": json.dumps(config)\n",
    "}\n",
    "# Send\n",
    "response = requests.post(f\"{SOURCE_URL}/transcribe\", files=files, data=data, headers = HEADER)\n",
    "# Response\n",
    "if response.status_code == 201:\n",
    "    jobid = response.json()['jobid']\n",
    "    res = {'state':'process'}\n",
    "else:\n",
    "    print(response.text)"
   ]
  },
  {
   "cell_type": "code",
   "execution_count": 37,
   "metadata": {},
   "outputs": [
    {
     "data": {
      "text/plain": [
       "{'state': 'done', 'result_id': '3b309eee-661f-44dc-b436-822c042667ab'}"
      ]
     },
     "execution_count": 37,
     "metadata": {},
     "output_type": "execute_result"
    }
   ],
   "source": [
    "response = requests.get(f\"{SOURCE_URL}/job/{jobid}\", headers = HEADER)\n",
    "res = response.json()\n",
    "res"
   ]
  },
  {
   "cell_type": "code",
   "execution_count": 39,
   "metadata": {},
   "outputs": [],
   "source": [
    "result_id = res['result_id']\n",
    "response = requests.get(f\"{SOURCE_URL}/results/{result_id}\", headers = HEADER)\n",
    "if response.status_code == 200:\n",
    "    transc = response.json()\n",
    "else:\n",
    "    print(response.text)"
   ]
  },
  {
   "cell_type": "markdown",
   "metadata": {},
   "source": [
    "#### Apply"
   ]
  },
  {
   "cell_type": "code",
   "execution_count": 34,
   "metadata": {},
   "outputs": [],
   "source": [
    "filename = 'A_Mic2.mp3'\n",
    "\n",
    "config = {\n",
    "    \"enablePunctuation\": False,\n",
    "    \"diarizationConfig\": {\n",
    "        \"enableDiarization\": False,\n",
    "        \"numberOfSpeaker\": 1,\n",
    "        \"maxNumberOfSpeaker\": 5\n",
    "}}"
   ]
  },
  {
   "cell_type": "markdown",
   "metadata": {},
   "source": [
    "For some reason not working - yet all steps work :shrug:"
   ]
  },
  {
   "cell_type": "code",
   "execution_count": null,
   "metadata": {},
   "outputs": [],
   "source": [
    "transc = post_file_transcribe(filename, config)\n",
    "if isinstance(transc, dict):\n",
    "    print('Transcription OK')\n",
    "else:\n",
    "    print(transc)\n"
   ]
  },
  {
   "cell_type": "markdown",
   "metadata": {},
   "source": [
    "## Parsing JSON to CSV / TextGrid"
   ]
  },
  {
   "cell_type": "code",
   "execution_count": 40,
   "metadata": {},
   "outputs": [
    {
     "data": {
      "text/plain": [
       "(dict_keys(['spk_id', 'start', 'end', 'duration', 'raw_segment', 'segment', 'words']),\n",
       " 1)"
      ]
     },
     "execution_count": 40,
     "metadata": {},
     "output_type": "execute_result"
    }
   ],
   "source": [
    "#transc.keys()\n",
    "transc['segments'][0].keys(), len(transc['segments'])\n",
    "#pd.DataFrame(transc['segments'][0]['words'])"
   ]
  },
  {
   "cell_type": "code",
   "execution_count": 44,
   "metadata": {},
   "outputs": [
    {
     "name": "stdout",
     "output_type": "stream",
     "text": [
      "(3930, 5) [None]\n"
     ]
    },
    {
     "data": {
      "text/html": [
       "<div>\n",
       "<style scoped>\n",
       "    .dataframe tbody tr th:only-of-type {\n",
       "        vertical-align: middle;\n",
       "    }\n",
       "\n",
       "    .dataframe tbody tr th {\n",
       "        vertical-align: top;\n",
       "    }\n",
       "\n",
       "    .dataframe thead th {\n",
       "        text-align: right;\n",
       "    }\n",
       "</style>\n",
       "<table border=\"1\" class=\"dataframe\">\n",
       "  <thead>\n",
       "    <tr style=\"text-align: right;\">\n",
       "      <th></th>\n",
       "      <th>word</th>\n",
       "      <th>start</th>\n",
       "      <th>end</th>\n",
       "      <th>conf</th>\n",
       "      <th>spk_id</th>\n",
       "    </tr>\n",
       "  </thead>\n",
       "  <tbody>\n",
       "    <tr>\n",
       "      <th>0</th>\n",
       "      <td>hum</td>\n",
       "      <td>6.481485</td>\n",
       "      <td>6.660000</td>\n",
       "      <td>0.550166</td>\n",
       "      <td>None</td>\n",
       "    </tr>\n",
       "    <tr>\n",
       "      <th>1</th>\n",
       "      <td>ah</td>\n",
       "      <td>7.170211</td>\n",
       "      <td>7.500402</td>\n",
       "      <td>0.393780</td>\n",
       "      <td>None</td>\n",
       "    </tr>\n",
       "    <tr>\n",
       "      <th>2</th>\n",
       "      <td>non</td>\n",
       "      <td>7.500927</td>\n",
       "      <td>7.650153</td>\n",
       "      <td>0.413070</td>\n",
       "      <td>None</td>\n",
       "    </tr>\n",
       "    <tr>\n",
       "      <th>3</th>\n",
       "      <td>j'</td>\n",
       "      <td>7.664348</td>\n",
       "      <td>7.741463</td>\n",
       "      <td>0.318835</td>\n",
       "      <td>None</td>\n",
       "    </tr>\n",
       "    <tr>\n",
       "      <th>4</th>\n",
       "      <td>avais</td>\n",
       "      <td>7.746179</td>\n",
       "      <td>7.889332</td>\n",
       "      <td>0.399175</td>\n",
       "      <td>None</td>\n",
       "    </tr>\n",
       "  </tbody>\n",
       "</table>\n",
       "</div>"
      ],
      "text/plain": [
       "    word     start       end      conf spk_id\n",
       "0    hum  6.481485  6.660000  0.550166   None\n",
       "1     ah  7.170211  7.500402  0.393780   None\n",
       "2    non  7.500927  7.650153  0.413070   None\n",
       "3     j'  7.664348  7.741463  0.318835   None\n",
       "4  avais  7.746179  7.889332  0.399175   None"
      ]
     },
     "execution_count": 44,
     "metadata": {},
     "output_type": "execute_result"
    }
   ],
   "source": [
    "df = []\n",
    "for t in transc['segments']:\n",
    "    #print(t['spk_id'], t['start'], t['end'], t['duration'], len(t['words']))\n",
    "    tmp = pd.DataFrame(t['words'])\n",
    "    tmp['spk_id'] = t['spk_id']\n",
    "    df.append(tmp)\n",
    "df = pd.concat(df, axis=0).reset_index(drop=True)\n",
    "print(df.shape, df.spk_id.unique())\n",
    "df.head()"
   ]
  },
  {
   "cell_type": "code",
   "execution_count": 12,
   "metadata": {},
   "outputs": [],
   "source": [
    "import sys, os, inspect\n",
    "\n",
    "sys.path.append('/Users/eliot/Documents/tools/SPPAS')\n",
    "sys.path.append('/Users/eliot/Documents/projects/multimodal-grounding/multimodalgrounding/utils/')"
   ]
  },
  {
   "cell_type": "code",
   "execution_count": 46,
   "metadata": {},
   "outputs": [],
   "source": [
    "%%capture\n",
    "from sppasfunc import interval_to_textgrid, read_ipus"
   ]
  },
  {
   "cell_type": "code",
   "execution_count": 45,
   "metadata": {},
   "outputs": [],
   "source": [
    "unique_spk = df.spk_id.unique()\n",
    "\n",
    "if len(unique_spk) > 1:\n",
    "    for spk in unique_spk:\n",
    "        interval_to_textgrid(df[df.spk_id == spk], filename.replace('mp3','TextGrid'), \n",
    "                        annot_tier=f'word-{spk}', text_column='word',\n",
    "                        timestart_col='start', timestop_col='end')\n",
    "else:\n",
    "    interval_to_textgrid(df, filename.replace('mp3','TextGrid'), \n",
    "                        annot_tier='word', text_column='word',\n",
    "                        timestart_col='start', timestop_col='end')"
   ]
  },
  {
   "cell_type": "code",
   "execution_count": null,
   "metadata": {},
   "outputs": [],
   "source": []
  },
  {
   "cell_type": "markdown",
   "metadata": {},
   "source": [
    "## Comparison 2-channels vs 2 1-channel"
   ]
  },
  {
   "cell_type": "code",
   "execution_count": 53,
   "metadata": {},
   "outputs": [],
   "source": [
    "# Two separate files\n",
    "df_sep = []\n",
    "for spk in [1,2]:\n",
    "    filename = f'A_Mic{spk}.TextGrid'\n",
    "    tmp, _ = read_ipus(filename, 'word')\n",
    "    tmp['spk_id'] = spk\n",
    "    df_sep.append(tmp)\n",
    "\n",
    "df_sep = pd.concat(df_sep, axis=0).reset_index(drop=True)\n",
    "\n",
    "# Two channels together\n",
    "df_two = []\n",
    "for spk in [1,2]:\n",
    "    tmp, _ = read_ipus('audio.TextGrid', f\"word-spk{spk}\")\n",
    "    tmp['spk_id'] = spk\n",
    "    df_two.append(tmp)\n",
    "\n",
    "df_two = pd.concat(df_two, axis=0).reset_index(drop=True)"
   ]
  },
  {
   "cell_type": "code",
   "execution_count": 54,
   "metadata": {},
   "outputs": [
    {
     "data": {
      "text/plain": [
       "((8407, 6), (4822, 6))"
      ]
     },
     "execution_count": 54,
     "metadata": {},
     "output_type": "execute_result"
    }
   ],
   "source": [
    "df_sep.shape, df_two.shape"
   ]
  },
  {
   "cell_type": "code",
   "execution_count": 61,
   "metadata": {},
   "outputs": [
    {
     "data": {
      "text/html": [
       "<div>\n",
       "<style scoped>\n",
       "    .dataframe tbody tr th:only-of-type {\n",
       "        vertical-align: middle;\n",
       "    }\n",
       "\n",
       "    .dataframe tbody tr th {\n",
       "        vertical-align: top;\n",
       "    }\n",
       "\n",
       "    .dataframe thead th {\n",
       "        text-align: right;\n",
       "    }\n",
       "</style>\n",
       "<table border=\"1\" class=\"dataframe\">\n",
       "  <thead>\n",
       "    <tr style=\"text-align: right;\">\n",
       "      <th></th>\n",
       "      <th>annotation</th>\n",
       "      <th>label</th>\n",
       "      <th>start_time</th>\n",
       "      <th>stop_time</th>\n",
       "      <th>location</th>\n",
       "      <th>spk_id</th>\n",
       "    </tr>\n",
       "  </thead>\n",
       "  <tbody>\n",
       "    <tr>\n",
       "      <th>0</th>\n",
       "      <td>76aaea60-3469-4eee-a7be-1b5624499080 [(7.43999...</td>\n",
       "      <td>ah</td>\n",
       "      <td>7.440000</td>\n",
       "      <td>7.500164</td>\n",
       "      <td>[(7.4399999999999995, 0.0005),(7.500164, 0.0005)]</td>\n",
       "      <td>1</td>\n",
       "    </tr>\n",
       "    <tr>\n",
       "      <th>1</th>\n",
       "      <td>9b6a2f95-f034-485f-a2b8-ff72d91cc765 [(7.50456...</td>\n",
       "      <td>non</td>\n",
       "      <td>7.504561</td>\n",
       "      <td>7.649958</td>\n",
       "      <td>[(7.504561, 0.0005),(7.649958, 0.0005)]</td>\n",
       "      <td>1</td>\n",
       "    </tr>\n",
       "  </tbody>\n",
       "</table>\n",
       "</div>"
      ],
      "text/plain": [
       "                                          annotation label  start_time  \\\n",
       "0  76aaea60-3469-4eee-a7be-1b5624499080 [(7.43999...    ah    7.440000   \n",
       "1  9b6a2f95-f034-485f-a2b8-ff72d91cc765 [(7.50456...   non    7.504561   \n",
       "\n",
       "   stop_time                                           location  spk_id  \n",
       "0   7.500164  [(7.4399999999999995, 0.0005),(7.500164, 0.0005)]       1  \n",
       "1   7.649958            [(7.504561, 0.0005),(7.649958, 0.0005)]       1  "
      ]
     },
     "execution_count": 61,
     "metadata": {},
     "output_type": "execute_result"
    }
   ],
   "source": [
    "df_sep.head(2)"
   ]
  },
  {
   "cell_type": "markdown",
   "metadata": {},
   "source": [
    "Matching cells & checking, for those not matched, the intensity. For those matched, checking whether speaker is correct."
   ]
  },
  {
   "cell_type": "code",
   "execution_count": 86,
   "metadata": {},
   "outputs": [],
   "source": [
    "def merge_about(df_left:pd.DataFrame, df_right:pd.DataFrame, diff_time:float=0.3) -> pd.DataFrame:\n",
    "    \"\"\"Merging right df into left (left is ref and has more rows than right)\n",
    "    \"\"\"\n",
    "    df = df_left[['spk_id', 'start_time', 'stop_time', 'label']]\n",
    "    for col in df.columns:\n",
    "        df[f'{col}_2c'] = None\n",
    "    for idx, row in tqdm(df.iterrows()):\n",
    "        tmp = df_right[(df_right.start_time >= (row.start_time - diff_time)) & (df_right.stop_time <= (row.stop_time + diff_time))]\n",
    "        if tmp.shape[0] > 0:\n",
    "            df.iloc[idx, df.columns.get_loc('label_2c')] = ' '.join(tmp.label.to_list())\n",
    "            df.iloc[idx, df.columns.get_loc('start_time_2c')] = tmp.start_time.min()\n",
    "            df.iloc[idx, df.columns.get_loc('stop_time_2c')] = tmp.stop_time.max()\n",
    "            df.iloc[idx, df.columns.get_loc('spk_id_2c')] = tmp.spk_id.iloc[0]\n",
    "            \n",
    "    return df"
   ]
  },
  {
   "cell_type": "code",
   "execution_count": 87,
   "metadata": {},
   "outputs": [
    {
     "name": "stderr",
     "output_type": "stream",
     "text": [
      "/var/folders/kr/m6yb8cr154dcdkxnm75b4clw0000gn/T/ipykernel_81579/1196001615.py:6: SettingWithCopyWarning: \n",
      "A value is trying to be set on a copy of a slice from a DataFrame.\n",
      "Try using .loc[row_indexer,col_indexer] = value instead\n",
      "\n",
      "See the caveats in the documentation: https://pandas.pydata.org/pandas-docs/stable/user_guide/indexing.html#returning-a-view-versus-a-copy\n",
      "  df[f'{col}_2c'] = None\n",
      "8407it [00:03, 2582.12it/s]\n"
     ]
    }
   ],
   "source": [
    "df = merge_about(df_sep, df_two)"
   ]
  },
  {
   "cell_type": "code",
   "execution_count": 89,
   "metadata": {},
   "outputs": [
    {
     "data": {
      "text/plain": [
       "spk_id           0.000000\n",
       "start_time       0.000000\n",
       "stop_time        0.000000\n",
       "label            0.000000\n",
       "spk_id_2c        0.046628\n",
       "start_time_2c    0.046628\n",
       "stop_time_2c     0.046628\n",
       "label_2c         0.046628\n",
       "dtype: float64"
      ]
     },
     "execution_count": 89,
     "metadata": {},
     "output_type": "execute_result"
    }
   ],
   "source": [
    "# Empty - words not strong enough to be heard\n",
    "df.isna().sum() / df.shape[0]"
   ]
  },
  {
   "cell_type": "code",
   "execution_count": 94,
   "metadata": {},
   "outputs": [
    {
     "data": {
      "text/plain": [
       "0.49791840133222315"
      ]
     },
     "execution_count": 94,
     "metadata": {},
     "output_type": "execute_result"
    }
   ],
   "source": [
    "# Wrong speaker\n",
    "(df.spk_id != df.spk_id_2c).sum() / df.shape[0]"
   ]
  },
  {
   "cell_type": "code",
   "execution_count": 112,
   "metadata": {},
   "outputs": [
    {
     "data": {
      "text/plain": [
       "0.07077435470441298"
      ]
     },
     "execution_count": 112,
     "metadata": {},
     "output_type": "execute_result"
    }
   ],
   "source": [
    "# Different word\n",
    "# !!! Since unprecise matching, will just check if the word is in the label_2c\n",
    "df.apply(lambda x: (x.label_2c is not None) and (x.spk_id == x.spk_id_2c) and (x.label not in x.label_2c), axis=1).sum() / df.shape[0]"
   ]
  },
  {
   "cell_type": "code",
   "execution_count": 114,
   "metadata": {},
   "outputs": [
    {
     "name": "stderr",
     "output_type": "stream",
     "text": [
      "/var/folders/kr/m6yb8cr154dcdkxnm75b4clw0000gn/T/ipykernel_81579/468053916.py:15: UserWarning: FixedFormatter should only be used together with FixedLocator\n",
      "  ax.set_yticklabels(['','', 'NA in audio-2channels', 'should be loc 2', 'should be loc 1', '2c / 1c diff words loc 1', '2c / 1c diff words loc 2'])\n"
     ]
    },
    {
     "data": {
      "image/png": "[encoded data removed]",
      "text/plain": [
       "<Figure size 1080x360 with 1 Axes>"
      ]
     },
     "metadata": {
      "needs_background": "light"
     },
     "output_type": "display_data"
    }
   ],
   "source": [
    "# plot sur la durée de l'expérience\n",
    "fig, ax = plt.subplots(figsize = (15,5))\n",
    "# plot NA locations\n",
    "t = df[df.spk_id_2c.isna()]\n",
    "events = [t.start_time.tolist()]\n",
    "# plot Wrong speaker \n",
    "for i in [1,2]:\n",
    "    events.append(df[(df.spk_id != df.spk_id_2c) & (df.spk_id == i)].start_time.tolist())\n",
    "# plot Different word\n",
    "diff_w = df.apply(lambda x: (x.label_2c is not None) and (x.spk_id == x.spk_id_2c) and (x.label not in x.label_2c), axis=1)\n",
    "for i in [1,2]:\n",
    "    events.append(df[diff_w & (df.spk_id == i)].start_time.tolist())\n",
    "\n",
    "ax.eventplot(events, colors=['black','blue','red','blue','red'])\n",
    "ax.set_yticklabels(['','', 'NA in audio-2channels', 'should be loc 2', 'should be loc 1', '2c / 1c diff words loc 1', '2c / 1c diff words loc 2'])\n",
    "plt.show()"
   ]
  },
  {
   "cell_type": "code",
   "execution_count": null,
   "metadata": {},
   "outputs": [],
   "source": []
  }
 ],
 "metadata": {
  "kernelspec": {
   "display_name": "Python 3.10.4 64-bit ('3.10.4')",
   "language": "python",
   "name": "python3"
  },
  "language_info": {
   "codemirror_mode": {
    "name": "ipython",
    "version": 3
   },
   "file_extension": ".py",
   "mimetype": "text/x-python",
   "name": "python",
   "nbconvert_exporter": "python",
   "pygments_lexer": "ipython3",
   "version": "3.10.4"
  },
  "orig_nbformat": 4,
  "vscode": {
   "interpreter": {
    "hash": "cd9b4ab6a5a364478957ed1029b15dc6b6ca3da057630463ed34e83987eb14e9"
   }
  }
 },
 "nbformat": 4,
 "nbformat_minor": 2
}
