{
 "cells": [
  {
   "attachments": {},
   "cell_type": "markdown",
   "metadata": {},
   "source": [
    "# ChatGPT API\n",
    "Using ChatGPT API for various reasons - summaries, theme annotation, etc"
   ]
  },
  {
   "cell_type": "code",
   "execution_count": 290,
   "metadata": {},
   "outputs": [],
   "source": [
    "import sys, os\n",
    "import pandas as pd\n",
    "import numpy as np\n",
    "from ast import literal_eval\n",
    "from speach import elan\n",
    "from difflib import SequenceMatcher\n",
    "import re\n",
    "import json\n",
    "import time\n",
    "from tqdm import tqdm\n",
    "\n",
    "import IPython\n",
    "import ipywidgets as widgets\n",
    "from IPython.display import Markdown, display"
   ]
  },
  {
   "cell_type": "code",
   "execution_count": 11,
   "metadata": {},
   "outputs": [],
   "source": [
    "# Loading and parametrizing\n",
    "import openai\n",
    "import tiktoken # get the number of tokens: use tiktoken\n",
    "\n",
    "with open(\"../src/openai_apk\", 'r') as f:\n",
    "    d = {x.split('=')[0]:literal_eval(x.split('=')[1]) for x in f.readlines()}\n",
    "openai.api_key = d['API_KEY']"
   ]
  },
  {
   "attachments": {},
   "cell_type": "markdown",
   "metadata": {},
   "source": [
    "## Functions"
   ]
  },
  {
   "attachments": {},
   "cell_type": "markdown",
   "metadata": {},
   "source": [
    "### ChatGPT prompt / calls"
   ]
  },
  {
   "cell_type": "code",
   "execution_count": null,
   "metadata": {},
   "outputs": [],
   "source": [
    "def get_number_tokens(s:str, model:str=\"gpt-3.5-turbo\"):\n",
    "    enc = tiktoken.get_encoding(\"cl100k_base\") # can use for other models\n",
    "    try:\n",
    "        encoding = tiktoken.encoding_for_model(model)\n",
    "    except KeyError:\n",
    "        encoding = tiktoken.get_encoding(\"cl100k_base\")\n",
    "    encs = enc.encode(s)\n",
    "    return len(encs)"
   ]
  },
  {
   "cell_type": "code",
   "execution_count": null,
   "metadata": {},
   "outputs": [],
   "source": [
    "def create_prompt(s:str, speakers:list):\n",
    "    s = f\"\"\"ce texte est extrait d'une conversation entre {' et '.join(speakers)}. lorsqu'un nouveau locuteur prend la parole, son nom est indiqué entre crochets (par exemple <{speakers[0]}>). Peux-tu me donner les différents thèmes de la conversation et me citer la phrase par laquelle ils débutent ?\n",
    "\n",
    "conversation: \"{s}\" \"\"\"\n",
    "    return s"
   ]
  },
  {
   "cell_type": "code",
   "execution_count": null,
   "metadata": {},
   "outputs": [],
   "source": [
    "def call_api(s:str, model:str=\"gpt-3.5-turbo\"):#, max_tokens:int=256):\n",
    "    \"\"\"\n",
    "    Response:\n",
    "    {\n",
    "        'id': 'chatcmpl-6p9XYPYSTTRi0xEviKjjilqrWU2Ve',\n",
    "        'object': 'chat.completion',\n",
    "        'created': 1677649420,\n",
    "        'model': 'gpt-3.5-turbo',\n",
    "        'usage': {'prompt_tokens': 56, 'completion_tokens': 31, 'total_tokens': 87},\n",
    "        'choices': [\n",
    "        {\n",
    "            'message': {\n",
    "            'role': 'assistant',\n",
    "            'content': 'The 2020 World Series was played in Arlington, Texas at the Globe Life Field, which was the new home stadium for the Texas Rangers.'},\n",
    "            'finish_reason': 'stop', # 'length' (token limit), 'content_filter' (flagged), 'null' (still in progress)\n",
    "            'index': 0\n",
    "        }\n",
    "        ]\n",
    "    }\n",
    "    \"\"\"\n",
    "    response = openai.ChatCompletion.create(\n",
    "        model=model,\n",
    "        messages=[ {\"role\": \"user\", \"content\": s} ],\n",
    "# Parametrizing not supported\n",
    "#        temperature=0.7,\n",
    "#        max_tokens=max_tokens,\n",
    "#        top_p=1,\n",
    "#        frequency_penalty=0,\n",
    "#        presence_penalty=0\n",
    "    )\n",
    "    res = response['choices'][0]['message']['content']\n",
    "    nb_tok = {'total': response['usage']['total_tokens'], 'response': response['usage']['completion_tokens']}\n",
    "    return res, nb_tok"
   ]
  },
  {
   "attachments": {},
   "cell_type": "markdown",
   "metadata": {},
   "source": [
    "### Prepare text for call"
   ]
  },
  {
   "cell_type": "code",
   "execution_count": null,
   "metadata": {},
   "outputs": [],
   "source": [
    "transcr_loc = \"../data/transcript/current\"\n",
    "transcr_files = sorted([x for x in os.listdir(transcr_loc) if 'eaf' in x])\n",
    "markers_path = \"../data/video/markers_from_video_start.csv\"\n",
    "markers = pd.read_csv(markers_path).set_index('file')"
   ]
  },
  {
   "cell_type": "code",
   "execution_count": null,
   "metadata": {},
   "outputs": [],
   "source": [
    "def get_conv_df(file:str):\n",
    "    _, date, group = file.split('.')[0].split('-')\n",
    "    eaf = elan.read_eaf(os.path.join(transcr_loc, file))\n",
    "    dial = pd.DataFrame(eaf.to_csv_rows(), columns=['speaker', '?', 'start','stop','duration','text'])\n",
    "    dial.start = dial.start.astype(float)\n",
    "    dial.stop = dial.stop.astype(float)\n",
    "    dial = dial[~dial.text.isin(['#', ''])].sort_values('start').reset_index(drop=True)\n",
    "    dial.drop(columns=['?'], inplace=True)\n",
    "    dial.speaker = dial.speaker.apply(lambda x: x.split('-')[-1])\n",
    "    mark = markers.loc[f'{date}_{group}']\n",
    "    fconv = dial[dial.start >= (mark['End Task 1'] + 2)] # giving seconds to start task\n",
    "    return dial, fconv\n",
    "\n",
    "def ann_overlap(df):\n",
    "    # df if ordered by start, stop. so the line before (more before if several during one ipu) should tell if \n",
    "    df['overlap'] = False\n",
    "    for idx, row in df.iterrows():\n",
    "        tmp = df.loc[(row.speaker != df.speaker) & (df.start <= row.start) & (df.stop >= row.stop)]\n",
    "        if tmp.shape[0] > 0:\n",
    "            df.loc[idx, 'overlap'] = True\n",
    "\n",
    "def is_feedback(s:str, threshold:float=.5) -> bool:\n",
    "    words = ['ouais','mh','hm', \"c'est sûr\", 'oui', 'ha','ah', '@', 'alors', 'voilà', 'ok', 'du coup']\n",
    "    nw = re.findall(re.compile('('+'|'.join(words)+')'), s.lower())\n",
    "    return (len(nw) / len(s.split())) > threshold"
   ]
  },
  {
   "cell_type": "code",
   "execution_count": null,
   "metadata": {},
   "outputs": [],
   "source": [
    "def create_texts(df:pd.DataFrame, max_nb_tokens:int=2048):\n",
    "    \"\"\"Max number of tokens for API: 2048/4000 - cannot use overlap since anwsers might not overlap\"\"\"\n",
    "    memory = []\n",
    "    # 1. get the number of tokens for every line in df\n",
    "    ### Which is the best option so as not to get almost empty last line?\n",
    "    df['text_updated'] = df.apply(lambda x: f\"<{x.speaker}> {x.text}\", axis=1)\n",
    "    #df['speaker_updated'] = (df.speaker != df.speaker.shift())*df.speaker\n",
    "    #df['text_updated'] = df.apply(lambda x: f\"<{x.speaker_updated}> {x.text}\" if x.speaker_updated != '' else x.text, axis=1)\n",
    "    df['nb_tok'] = df.text_updated.apply(get_number_tokens)\n",
    "    df['nb_tok_cs'] = df.nb_tok.cumsum()\n",
    "    # 2. while df is not empty, cut, add (start_index, text) to memory, and loop\n",
    "    nb_splits = np.ceil( df.nb_tok.cumsum().iloc[-1] / max_nb_tokens ) \n",
    "    max_nb_tokens = df.nb_tok.cumsum().iloc[-1] // nb_splits\n",
    "    print(f\"Max number of tokens (speakers everywhere): {df.nb_tok.cumsum().iloc[-1]}; Number of splits: {int(nb_splits)}, Max number of tokens: {max_nb_tokens}\")\n",
    "    while df.shape[0] > 0:\n",
    "        idx_change = df[df['nb_tok_cs'] <= max_nb_tokens].index[-1] + 1\n",
    "        #t = df[df['nb_tok_cs'] <= max_nb_tokens] # include the next one too\n",
    "        t = df.loc[:idx_change]\n",
    "        t['speaker_updated'] = (t.speaker != t.speaker.shift())*t.speaker\n",
    "        t['text_updated'] = t.apply(lambda x: f\"<{x.speaker_updated}> {x.text}\" if x.speaker_updated != '' else x.text, axis=1)\n",
    "        d = {'idx_start': t.index[0], 'idx_stop': t.index[-1], 'text': ' '.join(t.text_updated.tolist())}\n",
    "        d['len'] = get_number_tokens(d['text'])\n",
    "        memory.append(d)\n",
    "        # update df\n",
    "        #df = df[df['nb_tok_cs'] >= max_nb_tokens]\n",
    "        df = df.loc[(idx_change+1):]\n",
    "        df['nb_tok_cs'] = df.nb_tok.cumsum()\n",
    "    # 3. return memory\n",
    "    return memory"
   ]
  },
  {
   "attachments": {},
   "cell_type": "markdown",
   "metadata": {},
   "source": [
    "### Parse response and match to text"
   ]
  },
  {
   "cell_type": "code",
   "execution_count": 304,
   "metadata": {},
   "outputs": [],
   "source": [
    "def parse_chatgpt_res(text:str, mode:str='quotes_needed') -> int: # use with literal_eval\n",
    "    \"\"\"Match themes, quotes based on pattern: [1./ -] (theme)(:|\\( eventual sentence) \"<speaker> quote\"\n",
    "    \"\"\"\n",
    "    auth_modes = ['quotes_needed','all']\n",
    "    if mode not in auth_modes:\n",
    "        raise ValueError(f\"Argument mode must be one of {auth_modes}\")\n",
    "    p = re.compile(r\"\"\"\n",
    "^ # Beginning of line\n",
    "(?:\\d+\\.|-)[ ] # Bullet or numbered point\n",
    "(?P<theme>[^(:\\n]+) # Theme of the conversation (any character that isn't `:` or `(`)\n",
    "(\n",
    "  (?::[ ]|[ ]\\() # Beginning of context (match `: ` or ` (`)\n",
    "  (?P<context>\n",
    "    .*?[ ]? # Context is anything, maybe followed by a space\n",
    "    (?:\"(?P<quote>(.*?))\")? # Quote must be between `\"`\n",
    "  )\n",
    "  \\)?\n",
    ")?\n",
    "\\.?\n",
    "$ # End of line\n",
    "\"\"\", re.VERBOSE | re.MULTILINE)\n",
    "\n",
    "    themes = []\n",
    "    quotes = []\n",
    "    for m in p.finditer(text):\n",
    "        theme = m.group(\"theme\")\n",
    "        context = m.group(\"context\")\n",
    "        quote = m.group(\"quote\")\n",
    "        if mode == 'quotes_needed':\n",
    "            if quote is not None:\n",
    "                themes.append((theme, quote))\n",
    "        else:\n",
    "            themes.append(theme)\n",
    "            quotes.append(quote)\n",
    "    if len(quotes) == 0: quotes = None\n",
    "    return themes, quotes\n",
    "\n",
    "def clean_sent(s):\n",
    "    # select sentence only - form <speaker> (need to check if accurate) ... [text] ...\n",
    "    if s[0] == \"<\" and s[3] == \">\":\n",
    "        speaker = s[1:3]\n",
    "        s = s[5:]\n",
    "    else: speaker = None\n",
    "    if s[0:3] == \"...\":\n",
    "        s = s[4:]\n",
    "    if s[-3:] == \"...\":\n",
    "        s = s[:-3]\n",
    "    return s, speaker\n",
    "\n",
    "def match_sentence_loc(s, mem, df):\n",
    "    s, speaker = clean_sent(s) #literal_eval(s)) needed for older version\n",
    "    # check if matching original sentences\n",
    "    #if s in mem['text']:\n",
    "    # method 1: match (consecutive) parts of the sentence to the extract - issue: sole (common) words matching the extract\n",
    "    t = df.loc[mem['idx_start']:(mem['idx_stop']+1)]\n",
    "    t = t[t.speaker == speaker]\n",
    "    t['ratio'] = t.text.apply(lambda x: len(x) if x in s else 0)\n",
    "    sent_start = t.groupby([((t.ratio > 0) != (t.ratio > 0).shift()).cumsum()]).agg({'start': 'min', 'ratio': 'sum'}).reset_index(drop=True).sort_values('ratio', ascending=False).iloc[0]\n",
    "    # issue: partial sentence => fall back to difflib\n",
    "    if sent_start.ratio > 5: # usually long sentences\n",
    "        return sent_start.start\n",
    "    # method 2: use difflib.SequenceMatcher() .set_seq1(s) df.apply(sm.set_seq2(x); sm.ratio()) but issue if the sentence is split()\n",
    "    sm = SequenceMatcher()\n",
    "    sm.set_seq1(s)\n",
    "\n",
    "    def apply_seqmatch(x):\n",
    "        sm.set_seq2(x)\n",
    "        return sm.ratio()\n",
    "    t['ratio'] = t.text.apply(apply_seqmatch)\n",
    "    sent_start = t.sort_values('ratio', ascending=False).iloc[0]\n",
    "    return sent_start.start\n",
    "\n",
    "def match_themes_loc(res:str, mem, df, theme_col:str='theme'):\n",
    "    themes, quotes = parse_chatgpt_res(res)\n",
    "    if quotes is None:\n",
    "        for theme, sent in themes:\n",
    "            sent_start = match_sentence_loc(sent, mem, df)\n",
    "            df.loc[df.start == sent_start, theme_col] = theme\n",
    "    else:\n",
    "        for i, sent in enumerate(quotes):\n",
    "            sent_start = match_sentence_loc(sent, mem, df)\n",
    "            df.loc[df.start == sent_start, theme_col] = f\"theme{i}\""
   ]
  },
  {
   "attachments": {},
   "cell_type": "markdown",
   "metadata": {},
   "source": [
    "#### Old"
   ]
  },
  {
   "cell_type": "code",
   "execution_count": null,
   "metadata": {},
   "outputs": [],
   "source": [
    "def parse_chatgpt_res(s:str): # use with literal_eval\n",
    "    \"\"\" OLD, updated format :/\n",
    "    Format: \n",
    "    ----------\n",
    "    ```\n",
    "    Thèmes de la conversation:\n",
    "    - [liste ]\n",
    "    \n",
    "    Phrases introduisant les thèmes:\n",
    "    ```\n",
    "\n",
    "    Difficultés:\n",
    "    ----------\n",
    "    * Nombre différent de thèmes et de phrases (dans ce cas les quotes ne sont pas associées à un thème)\n",
    "    * Variations dans la formulation précise des intitulés (`introduisant chaque thème`, `introduisant ces thèmes`)\n",
    "    * Phrases des quotes coupées ==> comment matcher ?\n",
    "    \"\"\"\n",
    "    themes, quotes = s.split('\\n\\n')\n",
    "    themes = themes.split('\\n- ')[1:]\n",
    "    quotes = quotes.split('\\n- ')[1:]\n",
    "    if (len(themes) == len(quotes)) and len(quotes[0].split(':')) >= 2:\n",
    "        return [(t, ': '.join(q.split(': ')[1:])) for t, q in zip(themes, quotes)], None\n",
    "    else:\n",
    "        print(\"Skipping answser, different number of themes and quotes\")\n",
    "        return themes, quotes"
   ]
  },
  {
   "attachments": {},
   "cell_type": "markdown",
   "metadata": {},
   "source": [
    "## Calls"
   ]
  },
  {
   "attachments": {},
   "cell_type": "markdown",
   "metadata": {},
   "source": [
    "### Random tests"
   ]
  },
  {
   "cell_type": "code",
   "execution_count": 19,
   "metadata": {},
   "outputs": [
    {
     "data": {
      "text/plain": [
       "('The Los Angeles Dodgers won the World Series in 2020.', 31)"
      ]
     },
     "execution_count": 19,
     "metadata": {},
     "output_type": "execute_result"
    }
   ],
   "source": [
    "s = \"Who won the world series in 2020?\"\n",
    "call_api(s)"
   ]
  },
  {
   "attachments": {},
   "cell_type": "markdown",
   "metadata": {},
   "source": [
    "### Apply on one file"
   ]
  },
  {
   "cell_type": "code",
   "execution_count": 293,
   "metadata": {},
   "outputs": [
    {
     "data": {
      "application/vnd.jupyter.widget-view+json": {
       "model_id": "354bfe7107f941f99e5398f3399901c6",
       "version_major": 2,
       "version_minor": 0
      },
      "text/plain": [
       "Dropdown(description='Which file?', options=('bkt-221116-CGLS.eaf', 'bkt-221117-TFGG.eaf', 'bkt-221118-GDNF.ea…"
      ]
     },
     "execution_count": 293,
     "metadata": {},
     "output_type": "execute_result"
    }
   ],
   "source": [
    "file_selector = widgets.Dropdown(options = transcr_files, description=\"Which file?\")\n",
    "file_selector"
   ]
  },
  {
   "cell_type": "code",
   "execution_count": 318,
   "metadata": {},
   "outputs": [
    {
     "name": "stderr",
     "output_type": "stream",
     "text": [
      "/var/folders/kr/m6yb8cr154dcdkxnm75b4clw0000gn/T/ipykernel_87603/3357246356.py:16: SettingWithCopyWarning: \n",
      "A value is trying to be set on a copy of a slice from a DataFrame.\n",
      "Try using .loc[row_indexer,col_indexer] = value instead\n",
      "\n",
      "See the caveats in the documentation: https://pandas.pydata.org/pandas-docs/stable/user_guide/indexing.html#returning-a-view-versus-a-copy\n",
      "  df['overlap'] = False\n",
      "/var/folders/kr/m6yb8cr154dcdkxnm75b4clw0000gn/T/ipykernel_87603/2571075635.py:5: SettingWithCopyWarning: \n",
      "A value is trying to be set on a copy of a slice from a DataFrame.\n",
      "Try using .loc[row_indexer,col_indexer] = value instead\n",
      "\n",
      "See the caveats in the documentation: https://pandas.pydata.org/pandas-docs/stable/user_guide/indexing.html#returning-a-view-versus-a-copy\n",
      "  fconv['is_feedback'] = fconv.overlap + fconv.text.apply(is_feedback)\n"
     ]
    }
   ],
   "source": [
    "file = file_selector.value\n",
    "dial, fconv = get_conv_df(file)\n",
    "\n",
    "ann_overlap(fconv)\n",
    "fconv['is_feedback'] = fconv.overlap + fconv.text.apply(is_feedback)\n",
    "fconv = fconv[~fconv.is_feedback].reset_index(drop=True)"
   ]
  },
  {
   "cell_type": "code",
   "execution_count": 148,
   "metadata": {},
   "outputs": [
    {
     "data": {
      "text/plain": [
       "{'total': 1868, 'response': 240}"
      ]
     },
     "execution_count": 148,
     "metadata": {},
     "output_type": "execute_result"
    }
   ],
   "source": [
    "#res, nb_tok = call_api(t)\n",
    "#res, res2, nb_tok, nb_tok2 # print(res)"
   ]
  },
  {
   "cell_type": "code",
   "execution_count": 319,
   "metadata": {},
   "outputs": [
    {
     "name": "stdout",
     "output_type": "stream",
     "text": [
      "Max number of tokens (speakers everywhere): 3758; Number of splits: 2, Max number of tokens: 1879.0\n"
     ]
    },
    {
     "name": "stderr",
     "output_type": "stream",
     "text": [
      "/var/folders/kr/m6yb8cr154dcdkxnm75b4clw0000gn/T/ipykernel_87603/1339145969.py:19: SettingWithCopyWarning: \n",
      "A value is trying to be set on a copy of a slice from a DataFrame.\n",
      "Try using .loc[row_indexer,col_indexer] = value instead\n",
      "\n",
      "See the caveats in the documentation: https://pandas.pydata.org/pandas-docs/stable/user_guide/indexing.html#returning-a-view-versus-a-copy\n",
      "  t['speaker_updated'] = (t.speaker != t.speaker.shift())*t.speaker\n",
      "/var/folders/kr/m6yb8cr154dcdkxnm75b4clw0000gn/T/ipykernel_87603/1339145969.py:20: SettingWithCopyWarning: \n",
      "A value is trying to be set on a copy of a slice from a DataFrame.\n",
      "Try using .loc[row_indexer,col_indexer] = value instead\n",
      "\n",
      "See the caveats in the documentation: https://pandas.pydata.org/pandas-docs/stable/user_guide/indexing.html#returning-a-view-versus-a-copy\n",
      "  t['text_updated'] = t.apply(lambda x: f\"<{x.speaker_updated}> {x.text}\" if x.speaker_updated != '' else x.text, axis=1)\n",
      "/var/folders/kr/m6yb8cr154dcdkxnm75b4clw0000gn/T/ipykernel_87603/1339145969.py:27: SettingWithCopyWarning: \n",
      "A value is trying to be set on a copy of a slice from a DataFrame.\n",
      "Try using .loc[row_indexer,col_indexer] = value instead\n",
      "\n",
      "See the caveats in the documentation: https://pandas.pydata.org/pandas-docs/stable/user_guide/indexing.html#returning-a-view-versus-a-copy\n",
      "  df['nb_tok_cs'] = df.nb_tok.cumsum()\n",
      "/var/folders/kr/m6yb8cr154dcdkxnm75b4clw0000gn/T/ipykernel_87603/1339145969.py:19: SettingWithCopyWarning: \n",
      "A value is trying to be set on a copy of a slice from a DataFrame.\n",
      "Try using .loc[row_indexer,col_indexer] = value instead\n",
      "\n",
      "See the caveats in the documentation: https://pandas.pydata.org/pandas-docs/stable/user_guide/indexing.html#returning-a-view-versus-a-copy\n",
      "  t['speaker_updated'] = (t.speaker != t.speaker.shift())*t.speaker\n",
      "/var/folders/kr/m6yb8cr154dcdkxnm75b4clw0000gn/T/ipykernel_87603/1339145969.py:20: SettingWithCopyWarning: \n",
      "A value is trying to be set on a copy of a slice from a DataFrame.\n",
      "Try using .loc[row_indexer,col_indexer] = value instead\n",
      "\n",
      "See the caveats in the documentation: https://pandas.pydata.org/pandas-docs/stable/user_guide/indexing.html#returning-a-view-versus-a-copy\n",
      "  t['text_updated'] = t.apply(lambda x: f\"<{x.speaker_updated}> {x.text}\" if x.speaker_updated != '' else x.text, axis=1)\n"
     ]
    }
   ],
   "source": [
    "mem = create_texts(fconv.copy(deep=True))\n",
    "l_speakers = fconv.speaker.unique().tolist()"
   ]
  },
  {
   "cell_type": "code",
   "execution_count": 321,
   "metadata": {},
   "outputs": [
    {
     "name": "stderr",
     "output_type": "stream",
     "text": [
      "100%|██████████| 2/2 [00:31<00:00, 15.61s/it]\n"
     ]
    }
   ],
   "source": [
    "calls = {}\n",
    "for i in tqdm(range(len(mem))):\n",
    "    p = create_prompt(mem[i]['text'], speakers = l_speakers)\n",
    "    res, nb_tok = call_api(p)\n",
    "    # currently res, res2\n",
    "    calls[i] = {'split': mem[i], 'prompt': p, 'response': res, 'nb_tokens': nb_tok}\n",
    "    time.sleep(10)"
   ]
  },
  {
   "cell_type": "code",
   "execution_count": 322,
   "metadata": {},
   "outputs": [
    {
     "data": {
      "text/plain": [
       "{0: {'split': {'idx_start': 0,\n",
       "   'idx_stop': 186,\n",
       "   'text': \"<GG> une <TF> je ris du coup <GG> la <TF> on est mort <GG> bon <TF> i <GG> gardons <TF> hu non mais <GG> je sais pas si on était loin <TF> en vrai il nous restait deux trois trucs à faire <GG> ça ne fai que troi <TF> tout le monde l'a fait ni en afrique <GG> il peut en avoir jusqu'à onze e donc je crois qu'il faut qu'on parle <TF> j'ai la mongols <GG> je te lise au passage <TF> oui je veux bien <GG> oh voilà on part de cette espérance vous me mettrez à coup de te l'ordinateur vous avez quinze minutes de discussion libre avec l'autre participant euh trois passagers sont dans une mogonfière qui perd rapidement de latitude et qui est en passe de s'écraser le seul moyen pour les passagers de survivre est de sacrifier l'un d'eux parmi ces passagers se trouve un scientifique dont les recherches pourraient amené au développement d'une thérapie révolutionnaire contre le cancer une maîtresse d'école primaire enceinte et son mari il est également le pilote de la mongolfier quelle serait la meilleure solution à leur proposer vous avez quinze minutes tout ça merci <TF> je dirige merci il y en a un qui doit se sacrifier du coup e <GG> mais apparemment c'est la seule solution j'aurais peut être essayé de jeter des sacs deux d'abord très et qui l'ont déjà fait en la fin ce serait la meilleure solution à proposer <TF> me la meilleur en a une autre lement <GG> e je ne sais pas si on peut parler de meilleure solution dans ce cas là mes soins dans quel point je pars peutêtre jeter la personne la plus lourde pour qu'il y ait plus de chances je ne sais pas ce qu'ils disent meilleurs dans le sens où il y a plus de chances de survie oudan le pont moral la mort il n'y a pas de doute la façon de la quantifier ça dépend des gens de l'époque <TF> si tu devais sacrifier quelqu'un tu sais <GG> c'est compliqué on part du principe que le pilote donc le mari on ne peut pas être sacrifié par c'est la seule personne qui se conduire à mongolfier si on le sacrifie on retrouve calment tous les autres nous aussi <TF> a <GG> après on ne précise pas si les autres savent piloter la montgolfière ou pas <TF> bois <GG> sa le problème mais j'ai compris leur dilemme moral il y en a un qui peut potentiellement sauver des vies il y en a une il peut être considéré comme des individus que tu dis ou tu vas faire cent tes deux individus le pilote se dit tu ne peux pas tuer le pilote il s'écrase tous <TF> surtout les pilotes le mari <GG> et en plus ils ont une relation des personnages ont des relations entre eux donc <TF> je le pense il a joué davis de sacrifier le sang <GG> en la réponse est pareille je pense que scientifique tu ne peux pas le sac fon la morale tu ne sacrifie pas ce que tu te dis va sauver plus de gens <TF> oui mais c'est des recherches qui pourraient éventuellement <GG> bon <TF> e <GG> quand on juge les valeurs d'une ville à clermont <TF> ores <GG> après le scientifique sont aussi peut être une famille mais je me dis pour si tu tues un des membres du couple potentiellement ça va être compliqué pour l'autre de vivre en se disant il y a un tas qui se sacrifie pour moi ou alors ils font un che fumi et celui qui perd il se sacrifie <TF> che <GG> c'est la façon la plus juste <TF> ah c'est horrible <GG> ouai <TF> la vie un chiffon mange repas <GG> on peut être la personne qui se dessine <TF> mais en vrai <GG> e <TF> on je voudrais air ou je suis dans une mongolfier à la partie de la cage et le ballon ce coup la caisse du ballon ils doivent s'accrocher au vallon <GG> et être qu'ils sont trop haut <TF> non <GG> parce que dans ce cas là on va juste faire juste partir une personne tombe en bas juste pas un on a réorienter la main gauchère vers une rivière ou de la mer je pense que le débat n'est pas là je pense merci <TF> je pense pas non plus il faut choisir entre un des trois <GG> je peux choisir quelqu'un c'est la seule possibilité <TF> dans tous les cas je ne serai pas sa je suis la maîtresse d'école eh ben elle a une vie dans son ventre je ne sais pa <GG> je me dis peut être le scientifique même s'il a une roche a la tête pour trouver quelque chose contre le cancer je me dis potentiellement il travaille forcément avec une équipe donc ces équipes là doivent aussi avoir les résultats et on doit avoir le protocole personnellement ce résultat pourrait être trouvé par quelqu'un d'autre aussi par le futur <TF> oui après je pense qu'ils le sous entendent dans le sens où au delà du protocole il y a dans les idées du type <GG> ouai <TF> et du coup si meiyuan les autres n'ont pas forcément ces idées <GG> je lui demanderai d'appeler quelqu'un à lui dire toutes ses idées maintenant bon en <TF> un testament réel <GG> c'est compliqué il n'y a pas de bonnes décisions je pense tout ça dépend de moi pourquoi qui je demanderais qui est volontaire d'abord <TF> si on est pas qu'il y ait un volontaire <GG> si je pense que parfois dans ce de décision il y en a qui ont manqué pour sauver les autres vasco ce serait possible <TF> ou alors il n'y en a aucun qui ce soir ils décident de mourir tous les trois <GG> ils font un jeu ce qui permet on se rugit comme ça <TF> merci <GG> et ça serait mieux <TF> merci <GG> merci <TF> le jeu de la mort en vrai moi je ne me sentirais pas de enfin imaginez ce test dans une mare entière de personnes enfin ton mari imagine t on ce et mais j'irai mourir avec eux bon qui est une des e ie <GG> ou et on est parti sur le le pauvre en scientifique a demandé le je pense qu'en fait le couple il ne serait pas l'autre c'est des chances ce sera sa place deux autres ensemble <TF> r <GG> je ne sais pas mais je pense que dans ce cas là tu ne vas pas dire ok vas y ma femme saute\",\n",
       "   'len': 1550},\n",
       "  'prompt': 'ce texte est extrait d\\'une conversation entre GG et TF. lorsqu\\'un nouveau locuteur prend la parole, son nom est indiqué entre crochets (par exemple <GG>). Peux-tu me donner les différents thèmes de la conversation et me citer la phrase par laquelle ils débutent ?\\n\\nconversation: \"<GG> une <TF> je ris du coup <GG> la <TF> on est mort <GG> bon <TF> i <GG> gardons <TF> hu non mais <GG> je sais pas si on était loin <TF> en vrai il nous restait deux trois trucs à faire <GG> ça ne fai que troi <TF> tout le monde l\\'a fait ni en afrique <GG> il peut en avoir jusqu\\'à onze e donc je crois qu\\'il faut qu\\'on parle <TF> j\\'ai la mongols <GG> je te lise au passage <TF> oui je veux bien <GG> oh voilà on part de cette espérance vous me mettrez à coup de te l\\'ordinateur vous avez quinze minutes de discussion libre avec l\\'autre participant euh trois passagers sont dans une mogonfière qui perd rapidement de latitude et qui est en passe de s\\'écraser le seul moyen pour les passagers de survivre est de sacrifier l\\'un d\\'eux parmi ces passagers se trouve un scientifique dont les recherches pourraient amené au développement d\\'une thérapie révolutionnaire contre le cancer une maîtresse d\\'école primaire enceinte et son mari il est également le pilote de la mongolfier quelle serait la meilleure solution à leur proposer vous avez quinze minutes tout ça merci <TF> je dirige merci il y en a un qui doit se sacrifier du coup e <GG> mais apparemment c\\'est la seule solution j\\'aurais peut être essayé de jeter des sacs deux d\\'abord très et qui l\\'ont déjà fait en la fin ce serait la meilleure solution à proposer <TF> me la meilleur en a une autre lement <GG> e je ne sais pas si on peut parler de meilleure solution dans ce cas là mes soins dans quel point je pars peutêtre jeter la personne la plus lourde pour qu\\'il y ait plus de chances je ne sais pas ce qu\\'ils disent meilleurs dans le sens où il y a plus de chances de survie oudan le pont moral la mort il n\\'y a pas de doute la façon de la quantifier ça dépend des gens de l\\'époque <TF> si tu devais sacrifier quelqu\\'un tu sais <GG> c\\'est compliqué on part du principe que le pilote donc le mari on ne peut pas être sacrifié par c\\'est la seule personne qui se conduire à mongolfier si on le sacrifie on retrouve calment tous les autres nous aussi <TF> a <GG> après on ne précise pas si les autres savent piloter la montgolfière ou pas <TF> bois <GG> sa le problème mais j\\'ai compris leur dilemme moral il y en a un qui peut potentiellement sauver des vies il y en a une il peut être considéré comme des individus que tu dis ou tu vas faire cent tes deux individus le pilote se dit tu ne peux pas tuer le pilote il s\\'écrase tous <TF> surtout les pilotes le mari <GG> et en plus ils ont une relation des personnages ont des relations entre eux donc <TF> je le pense il a joué davis de sacrifier le sang <GG> en la réponse est pareille je pense que scientifique tu ne peux pas le sac fon la morale tu ne sacrifie pas ce que tu te dis va sauver plus de gens <TF> oui mais c\\'est des recherches qui pourraient éventuellement <GG> bon <TF> e <GG> quand on juge les valeurs d\\'une ville à clermont <TF> ores <GG> après le scientifique sont aussi peut être une famille mais je me dis pour si tu tues un des membres du couple potentiellement ça va être compliqué pour l\\'autre de vivre en se disant il y a un tas qui se sacrifie pour moi ou alors ils font un che fumi et celui qui perd il se sacrifie <TF> che <GG> c\\'est la façon la plus juste <TF> ah c\\'est horrible <GG> ouai <TF> la vie un chiffon mange repas <GG> on peut être la personne qui se dessine <TF> mais en vrai <GG> e <TF> on je voudrais air ou je suis dans une mongolfier à la partie de la cage et le ballon ce coup la caisse du ballon ils doivent s\\'accrocher au vallon <GG> et être qu\\'ils sont trop haut <TF> non <GG> parce que dans ce cas là on va juste faire juste partir une personne tombe en bas juste pas un on a réorienter la main gauchère vers une rivière ou de la mer je pense que le débat n\\'est pas là je pense merci <TF> je pense pas non plus il faut choisir entre un des trois <GG> je peux choisir quelqu\\'un c\\'est la seule possibilité <TF> dans tous les cas je ne serai pas sa je suis la maîtresse d\\'école eh ben elle a une vie dans son ventre je ne sais pa <GG> je me dis peut être le scientifique même s\\'il a une roche a la tête pour trouver quelque chose contre le cancer je me dis potentiellement il travaille forcément avec une équipe donc ces équipes là doivent aussi avoir les résultats et on doit avoir le protocole personnellement ce résultat pourrait être trouvé par quelqu\\'un d\\'autre aussi par le futur <TF> oui après je pense qu\\'ils le sous entendent dans le sens où au delà du protocole il y a dans les idées du type <GG> ouai <TF> et du coup si meiyuan les autres n\\'ont pas forcément ces idées <GG> je lui demanderai d\\'appeler quelqu\\'un à lui dire toutes ses idées maintenant bon en <TF> un testament réel <GG> c\\'est compliqué il n\\'y a pas de bonnes décisions je pense tout ça dépend de moi pourquoi qui je demanderais qui est volontaire d\\'abord <TF> si on est pas qu\\'il y ait un volontaire <GG> si je pense que parfois dans ce de décision il y en a qui ont manqué pour sauver les autres vasco ce serait possible <TF> ou alors il n\\'y en a aucun qui ce soir ils décident de mourir tous les trois <GG> ils font un jeu ce qui permet on se rugit comme ça <TF> merci <GG> et ça serait mieux <TF> merci <GG> merci <TF> le jeu de la mort en vrai moi je ne me sentirais pas de enfin imaginez ce test dans une mare entière de personnes enfin ton mari imagine t on ce et mais j\\'irai mourir avec eux bon qui est une des e ie <GG> ou et on est parti sur le le pauvre en scientifique a demandé le je pense qu\\'en fait le couple il ne serait pas l\\'autre c\\'est des chances ce sera sa place deux autres ensemble <TF> r <GG> je ne sais pas mais je pense que dans ce cas là tu ne vas pas dire ok vas y ma femme saute\" ',\n",
       "  'response': '1. Laughing together (\"je ris du coup\")\\n2. Possibly a failed project or task (\"il nous restait deux trois trucs à faire\")\\n3. The moral dilemma of sacrificing one person to save the others in a dangerous situation (\"trois passagers sont dans une mongolfière\")\\n4. Judging the values of a city (\"quand on juge les valeurs d\\'une ville à Clermont\")\\n5. Personal opinions on who should be sacrificed (\"je peux choisir quelqu\\'un\", \"dans tous les cas je ne serai pas sa\") \\n6. Hypothetical scenarios related to the moral dilemma (\"je voudrais être où je suis dans une mongolfière\")\\n7. Humor as a coping mechanism for the difficult conversation (\"ils font un jeu ce qui permet on se rugit comme ça\", \"le jeu de la mort\")',\n",
       "  'nb_tokens': {'total': 1801, 'response': 175}},\n",
       " 1: {'split': {'idx_start': 187,\n",
       "   'idx_stop': 349,\n",
       "   'text': \"<TF> oui mais du coup ça pourrait être le mari qui sauterait <GG> même si c'est le mari et trois ne peuvent pas sauver que ils ne savent pas contrôler la montgolfière <TF> oui mais le pesait non plus <GG> même le mari s'est dit je veux sauter je compte en me quand même ma femme parce que personne ne conduira mongolfier <TF> i <GG> alors il leur explique vite fait mais s'ils doivent faire un choix mais non ça va être compliqué <TF> s je me on je conduis mon gosier <GG> après on voit pas pourquoi le ventre sauva la femme et pas le mari non plus <TF> la en c'est juste parce qu'elle est ensemble <GG> ce concours à partir je pensais que peut être qu'elle va peut arriver à son terme peut être que l'enfant ne va pas naître après ça sera l'enfant ça sera un bouillon scientifique aussi <TF> e <GG> sont encore sur des hypothèses <TF> un bien scientifique ou un très bon pilote de mongolfier <GG> bon et que la prof elle va avoir un élève qui sera devenu très bon scientifique et grâce à elle je nierai à sauver plein d'autres gens <TF> r <GG> il n'a pas de bons en on juge d'une valeur d'une vie horrible <TF> me en gros on est en train de développer des il y a des voitures qui se conduit le <GG> un <TF> je crois qu'ils envoient des questionnaires des gens en me c'est pareil des dilemmes par exemple de personnes qui traversent la route il y en a un des deux cents en médecin il y a un des deux c'est un autre métier la voiture ne peut pas s'arrêter et qui qui doit mourir le genre i réponse ils vont être accumulés et ça va déterminer la rentrée des paramètres dans la voiture oui si et il existe que la voiture est le choe <GG> après il faut savoir qui est médecin qui n'est pas médecin créer une hiérarchie des professions de style tes femmes de ménage ce n'est pas grave je me suis médecin ce qui paraît avec le en james sur le train on te le train est cause droit mais il va tuer peut être cinquante personnes et si tu tournes il n'en tue que deux est ce que tu changes la trame du train on le fait consigne tout droit pris la même chose démente ta famille est ce que tu tues cinquante personnes ou tu sauves ta famille m <TF> on <GG> nous on sacrifie le le nombre je men nos relations peut être qu'il avait trouvé un traitement pour le cancer mais peut être pas pour éradiquer le cancer juste pour eux atténuer les douleurs ou la fatigue <TF> e ce n'est même pas qu'il a trouvé il pourrait éventuellement en trouver <GG> ils pourraient se éventuellement et comme la femme pourrait je pas sauver la montre demain ou comme l'homme pourrait aussi sauver l'homme demain on part du presque le scientifique va faire quelque chose alors que peut être pas du tout sachant contre lui un il n'y a pas de bonne dessus m je ten qu'on domme soit la femme ou le pilote ambiances qu'on condamne tout le monde si on en vire et ont eu un des deux peut être qu'on condamne l'autre dans l'estime traumatisme pour la personne qui va survivre même si ça serait trop baisant quelqu'un qui s'est tué mais si c'était quelqu'un je t'attendais un enfant de la personne or si le mari perd son enfant et sa femme peut être qu'il a tant un gros traumatisme il ne pourra plus plus vivre correctement je ne te sens appréciait pourront plus vive correctement d'une certaine façon ça reste des probabilités ce n'est pas sûr il peut très bien la vie très bien faire sa vie je suis parti sans chifoumi me <TF> merci <GG> a <TF> non c'est horrible <GG> je pense que c'est la meilleure chose à faire dans ce cas là parce que sinon les gens vont débattre pourquoi ce sera moi tu devrais sauter pour toi lautre se dire je suis pilote j'attends un enfant et j'ai sauvé le monde on là moi c'est un peu de hasard le truc du coup tu sais comme une sentence en d'accord c'est comme ça <TF> il a qui l'accepte aussi facilement <GG> que même pour ceux qui restent ils vont me dire pourquoi moi et pas lui on a considéré que ma vie avait plus de valeur non pas qu'il y a un jugement <TF> il a fait six ans le et fière <GG> oui mais là c'est différent si c'était le hasard et je n'y peux rien <TF> oui mais moi je pense a a après ça dépend des gens mais il y aurait quand même un sens du sacrifice c'est l'un des trois <GG> d'abord je vais choisir on a qui va ok procession qui dit ok j'y vais et que la mongolie personne ne sait la conduire et qu'elle tombe quand même c'est un peu bête et les autres avant la conduire au disait que c'était le pilote <TF> pas très bon en pile parentes <GG> déjà il est pas très grand pilote après qui sait que du coup ça va suffire on part du principe que ça se on part du principe il faut enlever un certain poids du coup il faut enlever le poids exact il faut enlever mais on ne peut pas se ça parce qu'il disparaît <TF> en ce moment là enfin pour être sûr il faudrait enlever la personne la plus lourde <GG> oui à la nuit tout a c'est ça c'est un problème de poids pour le coup pour la plus long mais <TF> après la dit le seul moyen pour les passagers le servir et de sacrifier l'un d'entre eux ça sous entend que peu importe la personne ça les sauvera <GG> sont juste partie d'un me moral et pas physique <TF> on se remplit trop la vie <GG> sinon ça a trop simple pour dieu boka personne <TF> on fit des calculs et tout des probabilités de changer tout se on <GG> de façon on ne doit pas désigner quelqu'un en quelque sorte on doit leur donner des conseils on doit les conseiller <TF> je vous conseille de sacrifier du sang en <GG> faire dire des coton n'est pas obligé de choisir il ne va pas dit choisissez quelqu'un qui doit mourir <TF> on peut leur dire quoi <GG> c'est sous entendu mais ce n'est pas obligatoire on peut leur poser des questions et en les choses tout seuls a n merci\",\n",
       "   'len': 1515},\n",
       "  'prompt': 'ce texte est extrait d\\'une conversation entre GG et TF. lorsqu\\'un nouveau locuteur prend la parole, son nom est indiqué entre crochets (par exemple <GG>). Peux-tu me donner les différents thèmes de la conversation et me citer la phrase par laquelle ils débutent ?\\n\\nconversation: \"<TF> oui mais du coup ça pourrait être le mari qui sauterait <GG> même si c\\'est le mari et trois ne peuvent pas sauver que ils ne savent pas contrôler la montgolfière <TF> oui mais le pesait non plus <GG> même le mari s\\'est dit je veux sauter je compte en me quand même ma femme parce que personne ne conduira mongolfier <TF> i <GG> alors il leur explique vite fait mais s\\'ils doivent faire un choix mais non ça va être compliqué <TF> s je me on je conduis mon gosier <GG> après on voit pas pourquoi le ventre sauva la femme et pas le mari non plus <TF> la en c\\'est juste parce qu\\'elle est ensemble <GG> ce concours à partir je pensais que peut être qu\\'elle va peut arriver à son terme peut être que l\\'enfant ne va pas naître après ça sera l\\'enfant ça sera un bouillon scientifique aussi <TF> e <GG> sont encore sur des hypothèses <TF> un bien scientifique ou un très bon pilote de mongolfier <GG> bon et que la prof elle va avoir un élève qui sera devenu très bon scientifique et grâce à elle je nierai à sauver plein d\\'autres gens <TF> r <GG> il n\\'a pas de bons en on juge d\\'une valeur d\\'une vie horrible <TF> me en gros on est en train de développer des il y a des voitures qui se conduit le <GG> un <TF> je crois qu\\'ils envoient des questionnaires des gens en me c\\'est pareil des dilemmes par exemple de personnes qui traversent la route il y en a un des deux cents en médecin il y a un des deux c\\'est un autre métier la voiture ne peut pas s\\'arrêter et qui qui doit mourir le genre i réponse ils vont être accumulés et ça va déterminer la rentrée des paramètres dans la voiture oui si et il existe que la voiture est le choe <GG> après il faut savoir qui est médecin qui n\\'est pas médecin créer une hiérarchie des professions de style tes femmes de ménage ce n\\'est pas grave je me suis médecin ce qui paraît avec le en james sur le train on te le train est cause droit mais il va tuer peut être cinquante personnes et si tu tournes il n\\'en tue que deux est ce que tu changes la trame du train on le fait consigne tout droit pris la même chose démente ta famille est ce que tu tues cinquante personnes ou tu sauves ta famille m <TF> on <GG> nous on sacrifie le le nombre je men nos relations peut être qu\\'il avait trouvé un traitement pour le cancer mais peut être pas pour éradiquer le cancer juste pour eux atténuer les douleurs ou la fatigue <TF> e ce n\\'est même pas qu\\'il a trouvé il pourrait éventuellement en trouver <GG> ils pourraient se éventuellement et comme la femme pourrait je pas sauver la montre demain ou comme l\\'homme pourrait aussi sauver l\\'homme demain on part du presque le scientifique va faire quelque chose alors que peut être pas du tout sachant contre lui un il n\\'y a pas de bonne dessus m je ten qu\\'on domme soit la femme ou le pilote ambiances qu\\'on condamne tout le monde si on en vire et ont eu un des deux peut être qu\\'on condamne l\\'autre dans l\\'estime traumatisme pour la personne qui va survivre même si ça serait trop baisant quelqu\\'un qui s\\'est tué mais si c\\'était quelqu\\'un je t\\'attendais un enfant de la personne or si le mari perd son enfant et sa femme peut être qu\\'il a tant un gros traumatisme il ne pourra plus plus vivre correctement je ne te sens appréciait pourront plus vive correctement d\\'une certaine façon ça reste des probabilités ce n\\'est pas sûr il peut très bien la vie très bien faire sa vie je suis parti sans chifoumi me <TF> merci <GG> a <TF> non c\\'est horrible <GG> je pense que c\\'est la meilleure chose à faire dans ce cas là parce que sinon les gens vont débattre pourquoi ce sera moi tu devrais sauter pour toi lautre se dire je suis pilote j\\'attends un enfant et j\\'ai sauvé le monde on là moi c\\'est un peu de hasard le truc du coup tu sais comme une sentence en d\\'accord c\\'est comme ça <TF> il a qui l\\'accepte aussi facilement <GG> que même pour ceux qui restent ils vont me dire pourquoi moi et pas lui on a considéré que ma vie avait plus de valeur non pas qu\\'il y a un jugement <TF> il a fait six ans le et fière <GG> oui mais là c\\'est différent si c\\'était le hasard et je n\\'y peux rien <TF> oui mais moi je pense a a après ça dépend des gens mais il y aurait quand même un sens du sacrifice c\\'est l\\'un des trois <GG> d\\'abord je vais choisir on a qui va ok procession qui dit ok j\\'y vais et que la mongolie personne ne sait la conduire et qu\\'elle tombe quand même c\\'est un peu bête et les autres avant la conduire au disait que c\\'était le pilote <TF> pas très bon en pile parentes <GG> déjà il est pas très grand pilote après qui sait que du coup ça va suffire on part du principe que ça se on part du principe il faut enlever un certain poids du coup il faut enlever le poids exact il faut enlever mais on ne peut pas se ça parce qu\\'il disparaît <TF> en ce moment là enfin pour être sûr il faudrait enlever la personne la plus lourde <GG> oui à la nuit tout a c\\'est ça c\\'est un problème de poids pour le coup pour la plus long mais <TF> après la dit le seul moyen pour les passagers le servir et de sacrifier l\\'un d\\'entre eux ça sous entend que peu importe la personne ça les sauvera <GG> sont juste partie d\\'un me moral et pas physique <TF> on se remplit trop la vie <GG> sinon ça a trop simple pour dieu boka personne <TF> on fit des calculs et tout des probabilités de changer tout se on <GG> de façon on ne doit pas désigner quelqu\\'un en quelque sorte on doit leur donner des conseils on doit les conseiller <TF> je vous conseille de sacrifier du sang en <GG> faire dire des coton n\\'est pas obligé de choisir il ne va pas dit choisissez quelqu\\'un qui doit mourir <TF> on peut leur dire quoi <GG> c\\'est sous entendu mais ce n\\'est pas obligatoire on peut leur poser des questions et en les choses tout seuls a n merci\" ',\n",
       "  'response': '1. La sauvegarde en cas d\\'accident de montgolfière\\nPhrase d\\'introduction: \"<TF> oui mais du coup ça pourrait être le mari qui sauterait\"\\n2. L\\'éthique et les dilemmes moraux\\nPhrase d\\'introduction: \"<GG> il n\\'a pas de bons en on juge d\\'une valeur d\\'une vie horrible\"\\n3. Les avancées scientifiques et médicales\\nPhrase d\\'introduction: \"<GG> ce concours à partir je pensais que peut être qu\\'elle va peut arriver à son terme peut être que l\\'enfant ne va pas naître après ça sera l\\'enfant ça sera un bouillon scientifique aussi\"\\n4. Le sens du sacrifice\\nPhrase d\\'introduction: \"<TF> il y aurait quand même un sens du sacrifice c\\'est l\\'un des trois\"',\n",
       "  'nb_tokens': {'total': 1771, 'response': 180}}}"
      ]
     },
     "execution_count": 322,
     "metadata": {},
     "output_type": "execute_result"
    }
   ],
   "source": [
    "calls"
   ]
  },
  {
   "cell_type": "code",
   "execution_count": 328,
   "metadata": {},
   "outputs": [
    {
     "data": {
      "text/plain": [
       "(['Laughing together',\n",
       "  'Possibly a failed project or task',\n",
       "  'The moral dilemma of sacrificing one person to save the others in a dangerous situation',\n",
       "  'Judging the values of a city',\n",
       "  'Personal opinions on who should be sacrificed',\n",
       "  'Hypothetical scenarios related to the moral dilemma',\n",
       "  'Humor as a coping mechanism for the difficult conversation'],\n",
       " ['je ris du coup',\n",
       "  'il nous restait deux trois trucs à faire',\n",
       "  'trois passagers sont dans une mongolfière',\n",
       "  \"quand on juge les valeurs d'une ville à Clermont\",\n",
       "  None,\n",
       "  'je voudrais être où je suis dans une mongolfière',\n",
       "  'ils font un jeu ce qui permet on se rugit comme ça\", \"le jeu de la mort'])"
      ]
     },
     "execution_count": 328,
     "metadata": {},
     "output_type": "execute_result"
    }
   ],
   "source": [
    "parse_chatgpt_res(calls[0]['response'], 'all')"
   ]
  },
  {
   "cell_type": "code",
   "execution_count": 316,
   "metadata": {},
   "outputs": [],
   "source": [
    "fconv['theme'] = None\n",
    "for i in range(len(calls)):\n",
    "    res = calls[i]['response']\n",
    "    memo = calls[i]['split']\n",
    "    match_themes_loc(res, memo, fconv)\n",
    "fconv['theme_filled'] = fconv.theme.ffill()"
   ]
  },
  {
   "attachments": {},
   "cell_type": "markdown",
   "metadata": {},
   "source": [
    "**Saving**"
   ]
  },
  {
   "cell_type": "code",
   "execution_count": 330,
   "metadata": {},
   "outputs": [],
   "source": [
    "mem_path = os.path.expanduser('~/Downloads/chatgpt-calls.json')\n",
    "if os.path.exists(mem_path):\n",
    "    with open(mem_path, 'r') as f:\n",
    "        mem_global = json.load(f)\n",
    "else:\n",
    "    mem_global = {}\n",
    "\n",
    "mem_global[file] = calls\n",
    "with open(mem_path, 'w') as f:\n",
    "    json.dump(mem_global, f, indent=4)"
   ]
  },
  {
   "cell_type": "code",
   "execution_count": 317,
   "metadata": {},
   "outputs": [],
   "source": [
    "csv_path = os.path.expanduser('~/Downloads/chatgpt-themes-brainkt.csv')\n",
    "fcols = fconv.columns.tolist()\n",
    "fconv['file'] = file.replace('-','_')[5:-4]\n",
    "fconv = fconv[['file']+fcols] # reordering columns\n",
    "if os.path.exists(csv_path):\n",
    "    fdf = pd.read_csv(csv_path, na_values=[''])\n",
    "    fdf = pd.concat([fdf, fconv], axis=0).reset_index(drop=True)\n",
    "else:\n",
    "    fdf = fconv\n",
    "fdf.to_csv(csv_path, index=False)"
   ]
  },
  {
   "attachments": {},
   "cell_type": "markdown",
   "metadata": {},
   "source": [
    "## Notes\n",
    "**Difficulties**: various ways to answer depending on days/number of calls?\n",
    "\n",
    "23/04/25:\n",
    "```\n",
    "-------- prompt 1\n",
    "Thèmes de la conversation: \n",
    "[4 themes]\n",
    "\n",
    "Phrases introduisant ces thèmes:\n",
    "[6 sentences]\n",
    "\n",
    "-------- prompt 2\n",
    "Thèmes de la conversation: \n",
    "- Choix difficile à faire dans une situation hypothétique (sauter d'une montgolfière)\n",
    "- Orientation professionnelle et projets d'avenir\n",
    "- Sujet de recherche en doctorat et expériences à mettre en place\n",
    "\n",
    "Phrases introduisant chaque thème:\n",
    "- Choix difficile: \"<CG> Après s'ils sont pas très haut, qu'il y en a un qui est un petit peu adroit de ses jambes, il saute et il se réceptionne...\"\n",
    "- Orientation professionnelle: \"<CG> Et du coup, tu fais quoi, toi? T'es en... en licence? <LS> Alors euh... j'ai une licence en management et je me réoriente, j'avais commencé un master en achat en école de commerce et je me réoriente dans le sport et euh... j'ai passé de concours pour être moniteur de sport dans l'armée de l'air...\"\n",
    "- Sujet de recherche: \"<CG> euh... Mon sujet c'est euh... la... l'adaptation du langage à l'adolescence...\"\n",
    "```\n",
    "\n",
    "23/04/26:\n",
    "```\n",
    "-------- prompt 1\n",
    "Thèmes de la conversation :\n",
    "1. Le dilemme de la mongolfière qui perd de l'altitude (début de la conversation avec la lecture du dilemme)\n",
    "2. Les différentes solutions envisageables pour résoudre le dilemme (proposition d'essayer de poser la mongolfière, balance pour peser les passagers, etc.)\n",
    "3. Le choix difficile à faire entre la vie du scientifique et celle du couple (discussion sur l'utilité de chaque passager, proposition de sacrifier personne, etc.)\n",
    "4. La réflexion sur la situation elle-même (contexte, possibilité d'autres solutions, etc.)\n",
    "\n",
    "-------- prompt 2\n",
    "Les différents thèmes de la conversation sont :\n",
    "\n",
    "- Choix de la personne à jeter d'une montgolfière (débutant avec la phrase \"<LS> c'est un scientifique merde\").\n",
    "- Orientation professionnelle et études, expériences professionnelles passées (débutant avec la phrase \"<CG> Et du coup, tu fais quoi, toi? T'es en... en licence?\").\n",
    "- Sujet de recherche en doctorat et expériences à mettre en place (débutant avec la phrase \"<CG> euh... Mon sujet c'est euh... la... l'adaptation du langage à l'adolescence\").\n",
    "```\n",
    "\n",
    "Variations in: the way to deliver the information. However, the _content_ hasn't changed much: same number of themes (and inability to give sentences) for prompt1, 3 themes with about the same sentences for prompt2"
   ]
  }
 ],
 "metadata": {
  "kernelspec": {
   "display_name": "Python 3",
   "language": "python",
   "name": "python3"
  },
  "language_info": {
   "codemirror_mode": {
    "name": "ipython",
    "version": 3
   },
   "file_extension": ".py",
   "mimetype": "text/x-python",
   "name": "python",
   "nbconvert_exporter": "python",
   "pygments_lexer": "ipython3",
   "version": "3.9.13"
  },
  "orig_nbformat": 4
 },
 "nbformat": 4,
 "nbformat_minor": 2
}
